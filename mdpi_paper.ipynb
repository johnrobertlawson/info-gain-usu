{
 "cells": [
  {
   "cell_type": "code",
   "execution_count": 11,
   "outputs": [],
   "source": [
    "import numpy as np\n",
    "from scipy.integrate import odeint\n",
    "import multiprocessing as mp\n",
    "import matplotlib as M\n",
    "%matplotlib inline\n",
    "import matplotlib.pyplot as plt\n",
    "import scipy.ndimage\n",
    "from scipy.ndimage import maximum_filter, maximum_filter1d, median_filter\n",
    "\n",
    "from lorenz63 import Lorenz63Simulator\n",
    "\n",
    "### SETTINGS ###\n",
    "rng = np.random.default_rng(seed=27)"
   ],
   "metadata": {
    "collapsed": false,
    "ExecuteTime": {
     "end_time": "2023-10-20T17:28:56.980143Z",
     "start_time": "2023-10-20T17:28:56.978305Z"
    }
   },
   "id": "98afc36a56712cbd"
  },
  {
   "cell_type": "code",
   "execution_count": null,
   "outputs": [],
   "source": [],
   "metadata": {
    "collapsed": false
   },
   "id": "a99752b59a7619e0"
  },
  {
   "cell_type": "code",
   "execution_count": 12,
   "outputs": [],
   "source": [
    "daylength = 5000\n",
    "pc = 99.9\n",
    "rho = 166.1\n",
    "simulator = Lorenz63Simulator(rho=rho,rng=rng)\n",
    "\n",
    "# Initialize some parameters for the simulation\n",
    "truth_initial_state = [1.0, 1.0, 1.0]\n",
    "spinup_time = 500\n",
    "num_steps = daylength + spinup_time\n",
    "dt = 0.01\n",
    "\n",
    "# Initial-condition perturbations\n",
    "num_perturbations = 200\n",
    "perturbation_scale = 5E-18\n",
    "\n",
    "# Max drift per time-step, uniform sampling\n",
    "# All positive to drive a consistent drift for each member from truth.\n",
    "# Might change to only do in one dimension (Z)\n",
    "drift_minmax = [1E-19,1E-18]\n",
    "\n"
   ],
   "metadata": {
    "collapsed": false,
    "ExecuteTime": {
     "end_time": "2023-10-20T17:28:56.985113Z",
     "start_time": "2023-10-20T17:28:56.983515Z"
    }
   },
   "id": "7d43c591c7bb5c5"
  },
  {
   "cell_type": "code",
   "execution_count": 13,
   "outputs": [],
   "source": [
    "# Run the simulations\n",
    "truth_series, perturbed_series_list = simulator.run_simulations(\n",
    "    truth_initial_state, num_steps, dt, spinup_time, num_perturbations, perturbation_scale,\n",
    "    drift_minmax=drift_minmax)\n"
   ],
   "metadata": {
    "collapsed": false,
    "ExecuteTime": {
     "end_time": "2023-10-20T17:28:58.488376Z",
     "start_time": "2023-10-20T17:28:57.024217Z"
    }
   },
   "id": "dd0f2d458662bd90"
  },
  {
   "cell_type": "code",
   "execution_count": 13,
   "outputs": [],
   "source": [
    "# We have truth and a \n",
    "ylims = [40,250]\n"
   ],
   "metadata": {
    "collapsed": false,
    "ExecuteTime": {
     "end_time": "2023-10-20T17:28:58.490266Z",
     "start_time": "2023-10-20T17:28:58.488496Z"
    }
   },
   "id": "4f67264dd40c6ecf"
  }
 ],
 "metadata": {
  "kernelspec": {
   "display_name": "Python 3",
   "language": "python",
   "name": "python3"
  },
  "language_info": {
   "codemirror_mode": {
    "name": "ipython",
    "version": 2
   },
   "file_extension": ".py",
   "mimetype": "text/x-python",
   "name": "python",
   "nbconvert_exporter": "python",
   "pygments_lexer": "ipython2",
   "version": "2.7.6"
  }
 },
 "nbformat": 4,
 "nbformat_minor": 5
}
