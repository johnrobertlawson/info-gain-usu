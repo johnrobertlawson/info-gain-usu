{
 "cells": [
  {
   "cell_type": "code",
   "execution_count": 9,
   "id": "initial_id",
   "metadata": {
    "collapsed": true,
    "ExecuteTime": {
     "end_time": "2024-02-13T17:41:51.713276Z",
     "start_time": "2024-02-13T17:41:51.707151Z"
    }
   },
   "outputs": [],
   "source": [
    "import numpy as np\n",
    "import pandas as pd \n",
    "\n",
    "class DivergenceScore:\n",
    "    def __init__(self,o=None,f=None,base=2,df=None,eps=None,N=None):\n",
    "        \"\"\"\n",
    "        o, f    :   1-D series of observations and forecasts\n",
    "        \"\"\"        \n",
    "        if o is not None:\n",
    "            assert f is not None\n",
    "            self.o = o\n",
    "            self.f = f\n",
    "            self.pks = sorted(np.unique(self.f))\n",
    "            self.df = self.do_binning()\n",
    "        elif df is not None:\n",
    "            self.N = N\n",
    "            self.df = df\n",
    "            self.pks = np.array([self.df.loc[\"pk\"]])\n",
    "        \n",
    "        self.eps = self._determine_eps(eps)\n",
    "        self.base = base\n",
    "        self.log = self._determine_log(self.base)\n",
    "        self.ks = self.df.columns\n",
    "        \n",
    "    @staticmethod\n",
    "    def _determine_log(base):\n",
    "        if base == 2:\n",
    "            return np.log2\n",
    "        elif base == \"e\":\n",
    "            return np.log \n",
    "        elif base == 10:\n",
    "            return np.log10\n",
    "        else:\n",
    "            raise Exception(\"Choose log base from 2, 10, or e\")\n",
    "        \n",
    "    def do_binning(self):\n",
    "        df = pd.DataFrame(columns=[f\"{k:.2f}\" for k in ks], index=[\"pk\", \"ok\", \"nk\"])\n",
    "        for i, k in enumerate(self.ks):\n",
    "\n",
    "            # Mask time series so only k \n",
    "            # Of these indices, how many obs were true? \n",
    "            # What is the length of observations?\n",
    "            idx = np.nonzero\n",
    "            f_subset = np.where(self.f==k, self.f, 0)\n",
    "            o_subset = np.where(self.f==k, self.o, 0)\n",
    "        self.N = len(self.o)\n",
    "        return df\n",
    "        \n",
    "    @classmethod\n",
    "    def compute_dkl(cls,q,p,base,eps=None):\n",
    "        eps = cls._determine_eps(eps)\n",
    "        log = cls._determine_log(base)\n",
    "        dkl = q*log(q/(p+eps)) + (1-q)*log((1-q)/(1-p+eps))\n",
    "        return dkl\n",
    "    \n",
    "    @staticmethod\n",
    "    def _determine_eps(eps):\n",
    "        if eps is None:\n",
    "            return np.finfo(float).eps\n",
    "        else:\n",
    "            assert eps > np.finfo(float).eps\n",
    "            return eps\n",
    "    \n",
    "    @classmethod\n",
    "    def compute_ds_from_components(cls,rel=None,res=None,unc=None):\n",
    "        assert rel and res and unc \n",
    "        return unc - res + rel \n",
    "    \n",
    "    def compute_ds(self,from_components=False,return_all=False):\n",
    "        if from_components:\n",
    "            rel = self.compute_rel()\n",
    "            res = self.compute_res()\n",
    "            unc = self.compute_unc()\n",
    "            if return_all:\n",
    "                print(\"Note that return_all is ignored outputting components\")\n",
    "            return self.compute_ds_from_components(rel=rel,res=res,unc=unc)\n",
    "        else:\n",
    "            try:\n",
    "                ds_series = self.compute_dkl(self.o,self.f, self.base)\n",
    "            except AttributeError:\n",
    "                # or \"if self.o is None\"\n",
    "                print(\"You can only ask for DS computed from a time series.\")\n",
    "            if return_all:\n",
    "                return ds_series\n",
    "            return np.mean(ds_series)\n",
    "        \n",
    "    def compute_rel(self):\n",
    "        total_dkl = 0\n",
    "        for i, k in enumerate(self.ks):   \n",
    "            ok_bar = self.df.loc[\"ok\",k]/self.df.loc[\"nk\",k]\n",
    "            dkl = self.compute_dkl(ok_bar,self.df.loc[\"pk\",k],self.base)\n",
    "            total_dkl += dkl * self.df.loc[\"nk\",k]\n",
    "        return total_dkl/self.N\n",
    "    \n",
    "    def compute_res(self):\n",
    "        total_dkl = 0\n",
    "        for i, k in enumerate(self.ks):   \n",
    "            ok_bar = self.df.loc[\"ok\",k]/self.df.loc[\"nk\",k]\n",
    "            o_bar = np.sum(self.df.loc[\"ok\"])/self.N\n",
    "            dkl = self.compute_dkl(ok_bar,o_bar,base=self.base)\n",
    "            total_dkl += dkl * self.df.loc[\"nk\",k]\n",
    "            # print(i,k,ok_bar,o_bar,dkl,total_dkl)\n",
    "        return total_dkl/self.N\n",
    "    \n",
    "    def compute_unc(self):\n",
    "        o_bar = self.eps + np.sum(self.df.loc[\"ok\"])/self.N\n",
    "        unc = -(o_bar * self.log(o_bar) + (1-o_bar) * self.log(1-o_bar)) \n",
    "        return unc \n",
    "\n",
    "        \n",
    "        "
   ]
  },
  {
   "cell_type": "code",
   "execution_count": 10,
   "outputs": [
    {
     "name": "stdout",
     "output_type": "stream",
     "text": [
      "rel=0.0712252672993584\n",
      "res=0.16834409203691228\n",
      "unc=0.5441879501594111\n",
      "ds_comp=0.4470691254218573\n"
     ]
    }
   ],
   "source": [
    "N = 346\n",
    "pks = [0.05,] + list(np.arange(0.1,0.95,0.1)) + [0.95,]\n",
    "ks = np.arange(1,len(pks)+1)\n",
    "ks_str = [f\"{k:d}\" for k in ks]\n",
    "df = pd.DataFrame(columns=ks, index=[\"pk\", \"ok\", \"nk\"])\n",
    "\n",
    "# Populate the dataframe\n",
    "# df.loc[\"k\"] = ks\n",
    "df.loc[\"pk\"] = pks\n",
    "df.loc[\"ok\"] = [1, 1, 5, 5, 4, 8, 6, 16, 16, 8, 11]\n",
    "df.loc[\"nk\"] = [46, 55, 59, 41, 19, 22, 22, 34, 24, 11, 13]\n",
    "\n",
    "# print(df)\n",
    "ds = DivergenceScore(df=df,N=N,base=\"e\")\n",
    "rel = ds.compute_rel()\n",
    "res = ds.compute_res()\n",
    "unc = ds.compute_unc()\n",
    "# ds_no = ds.compute_ds(from_components=False)\n",
    "ds_comp = ds.compute_ds(from_components=True)\n",
    "print(f\"{rel=}\\n{res=}\\n{unc=}\\n{ds_comp=}\")"
   ],
   "metadata": {
    "collapsed": false,
    "ExecuteTime": {
     "end_time": "2024-02-13T17:41:51.732654Z",
     "start_time": "2024-02-13T17:41:51.714111Z"
    }
   },
   "id": "eaa449543832eb77"
  },
  {
   "cell_type": "code",
   "execution_count": 11,
   "outputs": [
    {
     "data": {
      "text/plain": "1"
     },
     "execution_count": 11,
     "metadata": {},
     "output_type": "execute_result"
    }
   ],
   "source": [
    "df.loc[\"ok\",2]"
   ],
   "metadata": {
    "collapsed": false,
    "ExecuteTime": {
     "end_time": "2024-02-13T17:41:51.733305Z",
     "start_time": "2024-02-13T17:41:51.719641Z"
    }
   },
   "id": "700ff19d584de4d9"
  },
  {
   "cell_type": "code",
   "execution_count": 12,
   "outputs": [
    {
     "data": {
      "text/plain": "      1    2    3    4    5    6    7    8    9    10    11\npk  0.05  0.1  0.2  0.3  0.4  0.5  0.6  0.7  0.8  0.9  0.95\nok     1    1    5    5    4    8    6   16   16    8    11\nnk    46   55   59   41   19   22   22   34   24   11    13",
      "text/html": "<div>\n<style scoped>\n    .dataframe tbody tr th:only-of-type {\n        vertical-align: middle;\n    }\n\n    .dataframe tbody tr th {\n        vertical-align: top;\n    }\n\n    .dataframe thead th {\n        text-align: right;\n    }\n</style>\n<table border=\"1\" class=\"dataframe\">\n  <thead>\n    <tr style=\"text-align: right;\">\n      <th></th>\n      <th>1</th>\n      <th>2</th>\n      <th>3</th>\n      <th>4</th>\n      <th>5</th>\n      <th>6</th>\n      <th>7</th>\n      <th>8</th>\n      <th>9</th>\n      <th>10</th>\n      <th>11</th>\n    </tr>\n  </thead>\n  <tbody>\n    <tr>\n      <th>pk</th>\n      <td>0.05</td>\n      <td>0.1</td>\n      <td>0.2</td>\n      <td>0.3</td>\n      <td>0.4</td>\n      <td>0.5</td>\n      <td>0.6</td>\n      <td>0.7</td>\n      <td>0.8</td>\n      <td>0.9</td>\n      <td>0.95</td>\n    </tr>\n    <tr>\n      <th>ok</th>\n      <td>1</td>\n      <td>1</td>\n      <td>5</td>\n      <td>5</td>\n      <td>4</td>\n      <td>8</td>\n      <td>6</td>\n      <td>16</td>\n      <td>16</td>\n      <td>8</td>\n      <td>11</td>\n    </tr>\n    <tr>\n      <th>nk</th>\n      <td>46</td>\n      <td>55</td>\n      <td>59</td>\n      <td>41</td>\n      <td>19</td>\n      <td>22</td>\n      <td>22</td>\n      <td>34</td>\n      <td>24</td>\n      <td>11</td>\n      <td>13</td>\n    </tr>\n  </tbody>\n</table>\n</div>"
     },
     "execution_count": 12,
     "metadata": {},
     "output_type": "execute_result"
    }
   ],
   "source": [
    "ds.df"
   ],
   "metadata": {
    "collapsed": false,
    "ExecuteTime": {
     "end_time": "2024-02-13T17:41:51.734298Z",
     "start_time": "2024-02-13T17:41:51.724192Z"
    }
   },
   "id": "e77e11234a15da2e"
  },
  {
   "cell_type": "code",
   "execution_count": 13,
   "outputs": [],
   "source": [
    "# TODO:\n",
    "# Getting a time series of f,o into the format above\n",
    "# Do sigmoid function to remove 1s and 0s \n",
    "# Allow binning of forecast probs into specified \n",
    "# Visualisations like performance, reliability diagram, etc \n",
    "# Surprise a 2x2 table (threshold) then you can compute deterministic stats\n",
    "# Finish Brier Score \n",
    "# Get into a script"
   ],
   "metadata": {
    "collapsed": false,
    "ExecuteTime": {
     "end_time": "2024-02-13T17:41:51.734512Z",
     "start_time": "2024-02-13T17:41:51.726819Z"
    }
   },
   "id": "b8328702a8b1c4bb"
  },
  {
   "cell_type": "code",
   "execution_count": 13,
   "outputs": [],
   "source": [],
   "metadata": {
    "collapsed": false,
    "ExecuteTime": {
     "end_time": "2024-02-13T17:41:51.734668Z",
     "start_time": "2024-02-13T17:41:51.728750Z"
    }
   },
   "id": "9e91a4a4e634f146"
  },
  {
   "cell_type": "code",
   "execution_count": 14,
   "outputs": [],
   "source": [
    "class BrierScore(DivergenceScore):\n",
    "    def __init__(self, *args, **kwargs):\n",
    "        super().__init__(*args, **kwargs)\n",
    "\n",
    "    def compute_RES(self):\n",
    "        return \n",
    "    \n",
    "    def compute_REL(self):\n",
    "        return \n",
    "    \n",
    "    def compute_UNC(self):\n",
    "        return \n",
    "    \n",
    "    def compute_SS(self):\n",
    "        return \n",
    "    \n",
    "    def compute_BS(self,with_components):\n",
    "        return\n",
    "        "
   ],
   "metadata": {
    "collapsed": false,
    "ExecuteTime": {
     "end_time": "2024-02-13T17:41:51.735175Z",
     "start_time": "2024-02-13T17:41:51.731486Z"
    }
   },
   "id": "ef3f6c1f83691e2b"
  },
  {
   "cell_type": "code",
   "execution_count": 15,
   "outputs": [],
   "source": [
    "class BregmanViz:\n",
    "    def __init__(self,bs_rel=None,bs_res=False,bs_unc=False,bs=None,\n",
    "                    ds_rel=None,ds_res=None,ds_unc=None,ds=None):\n",
    "        self.bs_rel = bs_rel\n",
    "        self.bs_res = bs_res \n",
    "        self.bs_unc = bs_unc \n",
    "        self.bs = bs \n",
    "        \n",
    "        self.ds_rel = ds_rel\n",
    "        self.ds_res = ds_res \n",
    "        self.ds_unc = ds_unc \n",
    "        self.ds = ds \n",
    "        \n",
    "    def viz(self):\n",
    "        return "
   ],
   "metadata": {
    "collapsed": false,
    "ExecuteTime": {
     "end_time": "2024-02-13T17:41:51.735952Z",
     "start_time": "2024-02-13T17:41:51.734232Z"
    }
   },
   "id": "564267d3e6332946"
  }
 ],
 "metadata": {
  "kernelspec": {
   "display_name": "Python 3",
   "language": "python",
   "name": "python3"
  },
  "language_info": {
   "codemirror_mode": {
    "name": "ipython",
    "version": 2
   },
   "file_extension": ".py",
   "mimetype": "text/x-python",
   "name": "python",
   "nbconvert_exporter": "python",
   "pygments_lexer": "ipython2",
   "version": "2.7.6"
  }
 },
 "nbformat": 4,
 "nbformat_minor": 5
}
