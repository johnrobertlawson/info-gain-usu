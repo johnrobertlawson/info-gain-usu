{
 "cells": [
  {
   "cell_type": "code",
   "execution_count": 11,
   "id": "initial_id",
   "metadata": {
    "collapsed": true,
    "ExecuteTime": {
     "end_time": "2023-10-31T18:37:18.178822Z",
     "start_time": "2023-10-31T18:37:18.158717Z"
    }
   },
   "outputs": [],
   "source": [
    "import warnings\n",
    "\n",
    "import numpy as np\n",
    "\n",
    "from scipy.stats import entropy\n",
    "from scipy.special import rel_entr, kl_div, entr"
   ]
  },
  {
   "cell_type": "markdown",
   "source": [
    "# Computing information gain and its components \n",
    "### John R. Lawson, October 2022\n",
    "\n",
    "This shows the code and mathematics of evaluating a time series of paired forecast/observation probabilities.\n",
    "The assumption is for two observation categories: 0 and 1. \n",
    "The code can be developed further for >2 classes, continuous ranked (like CRPS), and observational uncertainty (Cross-Entropy Score).\n",
    "\n",
    "If evaluating event-by-event (like Lawson et al 2021 for cell-by-cell), don't decompose it"
   ],
   "metadata": {
    "collapsed": false
   },
   "id": "934253cddf6ab9c0"
  },
  {
   "cell_type": "code",
   "execution_count": 12,
   "outputs": [],
   "source": [
    "import numpy as np\n",
    "\n",
    "def generate_time_series(seed=42,num_samples=10000):\n",
    "    # np.random.seed(seed)\n",
    "    rng = np.random.default_rng(seed=seed)\n",
    "\n",
    "    \n",
    "    # Generate the 'o' time series with ~5% frequency of '1'\n",
    "    # o = np.random.choice([0, 1], size=num_samples, p=[0.9, 0.1])\n",
    "    o = rng.choice([0, 1], size=num_samples, p=[0.8, 0.2])\n",
    "    \n",
    "    # Initialize 'f' as an empty array\n",
    "    f = np.zeros(num_samples)\n",
    "    \n",
    "    for i in range(num_samples):\n",
    "        if o[i] == 1:\n",
    "            # Generate a high probability value between 0.50 and 0.99\n",
    "\n",
    "            f[i] = rng.choice(np.arange(0.90, 0.995, 0.01))\n",
    "            # f[i] = np.random.choice(np.arange(0.70, 1.00, 0.01))\n",
    "        else:\n",
    "            # Generate a low probability value between 0.01 and 0.49\n",
    "            # f[i] = np.random.choice(np.arange(0.01, 0.20, 0.01))\n",
    "            f[i] = rng.choice(np.arange(0.01, 0.40, 0.01))\n",
    "            \n",
    "    return o, f\n",
    "\n",
    "o, f = generate_time_series()\n",
    "# print(\"o:\", o)\n",
    "# print(\"f:\", f)\n"
   ],
   "metadata": {
    "collapsed": false,
    "ExecuteTime": {
     "end_time": "2023-10-31T18:37:18.228551Z",
     "start_time": "2023-10-31T18:37:18.165587Z"
    }
   },
   "id": "4db6bf6ad2fc2684"
  },
  {
   "cell_type": "code",
   "execution_count": 13,
   "outputs": [
    {
     "data": {
      "text/plain": "[<matplotlib.lines.Line2D at 0x15ce74c10>]"
     },
     "execution_count": 13,
     "metadata": {},
     "output_type": "execute_result"
    },
    {
     "data": {
      "text/plain": "<Figure size 640x480 with 1 Axes>",
      "image/png": "[encoded data removed]"
     },
     "metadata": {},
     "output_type": "display_data"
    }
   ],
   "source": [
    "from matplotlib import pyplot as plt\n",
    "# Observations and forecast probabilities\n",
    "\n",
    "# o = np.array([1,0,0,0,1,0])\n",
    "# f = np.array([0.9,0.1,0.3,0.4,0.6,0.6])\n",
    "\n",
    "# o = np.array([1,0,0,1,0,0,1,0,0])\n",
    "# f = np.array([0.6,0.4,0.1,0.99,0.1,0.01,0.8,0.5,0.2])\n",
    "\n",
    "# Use loaded DKL \n",
    "# del DKL\n",
    "from dkl import DKL\n",
    "\n",
    "# print(o[:50],f[:50])\n",
    "# print(f.max())\n",
    "\n",
    "dkl_ = DKL(o,f)\n",
    "\n",
    "fig,ax = plt.subplots(1)\n",
    "ind = np.argsort(o)\n",
    "o = o[ind]\n",
    "f = f[ind]\n",
    "ax.plot(o,color=\"green\")\n",
    "ax.plot(f,color=\"red\")"
   ],
   "metadata": {
    "collapsed": false,
    "ExecuteTime": {
     "end_time": "2023-10-31T18:37:18.347012Z",
     "start_time": "2023-10-31T18:37:18.229954Z"
    }
   },
   "id": "4e8aea9f775eda24"
  },
  {
   "cell_type": "markdown",
   "source": [
    "### Uncertainty component\n",
    "This is only defined for >2 values. The frequency of one event occurring gives certainty (entropy = 0)\n",
    "Uncertainty is otherwise the prior entropy (1 bit for coin)\n",
    "-log2(prob)"
   ],
   "metadata": {
    "collapsed": false
   },
   "id": "6ff8ebd36ef8b178"
  },
  {
   "cell_type": "code",
   "execution_count": 14,
   "outputs": [
    {
     "name": "stdout",
     "output_type": "stream",
     "text": [
      "0.712632141210245\n"
     ]
    }
   ],
   "source": [
    "print(dkl_.compute_unc())\n",
    "# print(dkl.compute_unc_TA2010())"
   ],
   "metadata": {
    "collapsed": false,
    "ExecuteTime": {
     "end_time": "2023-10-31T18:37:18.350872Z",
     "start_time": "2023-10-31T18:37:18.346160Z"
    }
   },
   "id": "78dc3cc5aee48a32"
  },
  {
   "cell_type": "markdown",
   "source": [
    "### Reliability component\n",
    "The information lost via \"probabilistic false alarm\" or incorrect categorisation of forecast probability\n",
    "Zero reliability error (information loss) occurs when, e.g., an average 20% risk is issued for an event that occurs 1 in 5 times"
   ],
   "metadata": {
    "collapsed": false
   },
   "id": "3bd7861c7baccdff"
  },
  {
   "cell_type": "code",
   "execution_count": 15,
   "outputs": [
    {
     "name": "stdout",
     "output_type": "stream",
     "text": [
      "0.2896759209584766\n"
     ]
    }
   ],
   "source": [
    "print(dkl_.compute_rel())\n",
    "# print(dkl.compute_rel_TA2010())"
   ],
   "metadata": {
    "collapsed": false,
    "ExecuteTime": {
     "end_time": "2023-10-31T18:37:18.355488Z",
     "start_time": "2023-10-31T18:37:18.348555Z"
    }
   },
   "id": "ded8422b0eb66bb4"
  },
  {
   "cell_type": "markdown",
   "source": [
    "### Discrimination component\n",
    "We might want to return an array of dsc values per probability threshold\n",
    "dsc_1d shows this currently - can output dkl.k attribute for 1-D array of forecast-probability bins\n",
    "(Need a visualisation bit later in notebook)"
   ],
   "metadata": {
    "collapsed": false
   },
   "id": "7d759d5f504c8c87"
  },
  {
   "cell_type": "code",
   "execution_count": 16,
   "outputs": [
    {
     "name": "stdout",
     "output_type": "stream",
     "text": [
      "0.712632141170183\n"
     ]
    }
   ],
   "source": [
    "print(dkl_.compute_dsc())\n",
    "# print(dkl.compute_dsc_TA2010())"
   ],
   "metadata": {
    "collapsed": false,
    "ExecuteTime": {
     "end_time": "2023-10-31T18:37:18.358731Z",
     "start_time": "2023-10-31T18:37:18.354004Z"
    }
   },
   "id": "efe423b18acec217"
  },
  {
   "cell_type": "code",
   "execution_count": 17,
   "outputs": [
    {
     "name": "stdout",
     "output_type": "stream",
     "text": [
      "0.2896759209584766\n",
      "0.28967592099853856\n"
     ]
    }
   ],
   "source": [
    "print(dkl_.compute_dkl(from_components=False))\n",
    "print(dkl_.compute_dkl(from_components=True))"
   ],
   "metadata": {
    "collapsed": false,
    "ExecuteTime": {
     "end_time": "2023-10-31T18:37:18.406443Z",
     "start_time": "2023-10-31T18:37:18.358353Z"
    }
   },
   "id": "71d540f28155a465"
  },
  {
   "cell_type": "code",
   "execution_count": 18,
   "outputs": [],
   "source": [
    "# print(dkl.compute_dkl_TA2010(from_components=False))\n",
    "# print(dkl.compute_dkl_TA2010(from_components=True))"
   ],
   "metadata": {
    "collapsed": false,
    "ExecuteTime": {
     "end_time": "2023-10-31T18:37:18.406587Z",
     "start_time": "2023-10-31T18:37:18.364096Z"
    }
   },
   "id": "1feecd4d02e1f9c9"
  },
  {
   "cell_type": "code",
   "execution_count": 19,
   "outputs": [
    {
     "name": "stdout",
     "output_type": "stream",
     "text": [
      "bs=0.04368779999999999, bss=0.7221210893045643\n",
      "SS=0.593512691545754, D_ss=0.9999999999437831, R_ss=0.406487308398029\n",
      "ig=0.4229562202117064\n"
     ]
    }
   ],
   "source": [
    "bs = dkl_.compute_bs()\n",
    "bss = dkl_.compute_bss()\n",
    "print(f\"{bs=}, {bss=}\")\n",
    "\n",
    "SS, D_ss, R_ss = dkl_.compute_skill_score(return_components=True)\n",
    "print(f\"{SS=}, {D_ss=}, {R_ss=}\")\n",
    "\n",
    "ig = dkl_.compute_info_gain_over_climo()\n",
    "print(f\"{ig=}\")    "
   ],
   "metadata": {
    "collapsed": false,
    "ExecuteTime": {
     "end_time": "2023-10-31T18:37:18.406691Z",
     "start_time": "2023-10-31T18:37:18.369505Z"
    }
   },
   "id": "ee3bcddfcb330014"
  },
  {
   "cell_type": "markdown",
   "source": [
    "### Skill scores\n",
    "You can represent these components normalised by uncertainty\n",
    "Positive indicates a gain over this measure\n",
    "\n",
    "We would rather look at information gained over a baseline, but naiveity would be entropy to begin with\n",
    "Can compare two models (different rho, for instance) and set unc to be dkl, remaining uncertainty in forecast\n",
    "\n",
    "Information gained between forecasts issued by an old and new model f1 and f2, respectively, is:"
   ],
   "metadata": {
    "collapsed": false
   },
   "id": "cf178ae0804c6983"
  },
  {
   "cell_type": "code",
   "execution_count": 19,
   "outputs": [],
   "source": [],
   "metadata": {
    "collapsed": false,
    "ExecuteTime": {
     "end_time": "2023-10-31T18:37:18.406737Z",
     "start_time": "2023-10-31T18:37:18.377495Z"
    }
   },
   "id": "565558a073277080"
  },
  {
   "cell_type": "code",
   "execution_count": 19,
   "outputs": [],
   "source": [],
   "metadata": {
    "collapsed": false,
    "ExecuteTime": {
     "end_time": "2023-10-31T18:37:18.406770Z",
     "start_time": "2023-10-31T18:37:18.379140Z"
    }
   },
   "id": "1cd189ad98554b7d"
  },
  {
   "cell_type": "code",
   "execution_count": 19,
   "outputs": [],
   "source": [],
   "metadata": {
    "collapsed": false,
    "ExecuteTime": {
     "end_time": "2023-10-31T18:37:18.406800Z",
     "start_time": "2023-10-31T18:37:18.380660Z"
    }
   },
   "id": "c5408df72d66a7a9"
  },
  {
   "cell_type": "code",
   "execution_count": 19,
   "outputs": [],
   "source": [],
   "metadata": {
    "collapsed": false,
    "ExecuteTime": {
     "end_time": "2023-10-31T18:37:18.406830Z",
     "start_time": "2023-10-31T18:37:18.382394Z"
    }
   },
   "id": "7e4f05559c391575"
  },
  {
   "cell_type": "code",
   "execution_count": 20,
   "outputs": [],
   "source": [
    "np.seterr(divide='ignore')\n",
    "warnings.filterwarnings('ignore')\n",
    "\n",
    "class DKL:\n",
    "    def __init__(self,o,f):\n",
    "        self.o = o \n",
    "        self.f = f\n",
    "        \n",
    "        assert np.max(f) < 1.0\n",
    "        assert np.min(f) > 0.0\n",
    "        \n",
    "        # Number of unique forecast probs\n",
    "        self.k = np.unique(self.f)\n",
    "        \n",
    "        # Number of unique classes\n",
    "        self.c = np.unique(self.o)\n",
    "        \n",
    "        # Frequency of obs\n",
    "        self.o_bar = np.mean(self.o)\n",
    "            \n",
    "    @classmethod\n",
    "    def compute_info_gain(cls,o,f1,f2,from_components=False):\n",
    "        DKL1 = cls.__compute_dkl(o,f1)\n",
    "        DKL2 = cls.__compute_dkl(o,f2)\n",
    "        return DKL1 - DKL2\n",
    "        \n",
    "    @staticmethod\n",
    "    def __compute_dkl(o,f):\n",
    "        raw_term1 = (1-o)*np.log2((1-o)/(1-f))\n",
    "        raw_term2 = o*np.log2(o/f)\n",
    "              \n",
    "        term1 = np.nan_to_num(raw_term1)\n",
    "        term2 = np.nan_to_num(raw_term2)\n",
    "        raw_dkl = term1 + term2 \n",
    "\n",
    "        # Find nans and convert to 0 \n",
    "        # Not infinity, as f in {0,1} dealt with already\n",
    "        # dkl = -term1 -term2\n",
    "        all_dkl = np.nan_to_num(raw_dkl)\n",
    "        return all_dkl, np.mean(all_dkl)        \n",
    "        \n",
    "    def compute_dkl(self,from_components=False):\n",
    "        if from_components:\n",
    "            U = self.compute_unc()\n",
    "            R = self.compute_rel()\n",
    "            D = self.compute_dsc()\n",
    "            return R - D + U\n",
    "        all_dkl, raw_dkl = self.__compute_dkl(self.o,self.f)\n",
    "        dkl = np.nan_to_num(raw_dkl)\n",
    "        # print(f\"{all_dkl=}, {raw_dkl=}, {dkl=}\")\n",
    "        return dkl \n",
    "    \n",
    "    def compute_rel(self):\n",
    "        # N total forecasts\n",
    "        # K number of unique forecasts \n",
    "        # ok_bar is frequency for obs in prob-class k\n",
    "        # fk is the pmf for prob-class k\n",
    "        N = len(self.o)\n",
    "        K = len(self.k)\n",
    "        rel_1d = np.zeros([K])\n",
    "        ok_bar_1d = np.zeros([K])\n",
    "        fk_list = []\n",
    "        nk_1d = np.zeros([K])\n",
    "        dkl_1d = np.zeros([K])\n",
    "        for ik,k in enumerate(self.k):\n",
    "            ok_bar_1d[ik] = np.mean(self.o[self.f==k])\n",
    "            fk_list.append(self.f[self.f==k])\n",
    "            nk_1d[ik] = len(fk_list[ik])\n",
    "            dkl_k, dkl_all = self.__compute_dkl(ok_bar_1d[ik],fk_list[ik])\n",
    "            dkl_1d[ik] = np.sum(dkl_all)\n",
    "            # dkl_1d[ik] = dkl_k\n",
    "            # print(ok_bar,fk,nk,dkl)\n",
    "            rel_1d[ik] = (nk_1d[ik]*dkl_1d[ik])\n",
    "        # rel_1d[rel_1d == np.nan] = 0\n",
    "        rel_1d = np.nan_to_num(rel_1d)\n",
    "        # print(f\"{rel_1d=}, {ok_bar_1d=}, {fk_list=}, {nk_1d=}, {dkl_1d=}\")\n",
    "        return np.sum(rel_1d)/N\n",
    "    \n",
    "    def compute_dsc(self):\n",
    "        # N total forecasts\n",
    "        # K number of unique forecasts \n",
    "        # ok_bar is frequency for obs in prob-class k\n",
    "        N = len(self.o)\n",
    "        K = len(self.k)\n",
    "        dsc_2d = []\n",
    "        for ik,k in enumerate(self.k):\n",
    "            ok_bar = np.mean(self.o[self.f==k])\n",
    "            fk = self.f[self.f==k]\n",
    "            nk = len(fk)\n",
    "            dkl_all, dkl_mean = self.__compute_dkl(ok_bar,self.o_bar)\n",
    "            # dsc_1d[ik] = nk*dkl_all\n",
    "            dsc_2d.append(nk*dkl_all)\n",
    "        # print(f\"{dkl_all=}, {dkl_mean=}, {ok_bar=}\")      \n",
    "        dsc_1d = np.nan_to_num(dsc_2d)\n",
    "        # dsc_1d = \n",
    "        return np.sum(dsc_1d)/N\n",
    "    \n",
    "    def compute_unc(self):\n",
    "        term1 = (1-self.o_bar) * np.log2(1-self.o_bar)\n",
    "        term2 = self.o_bar * np.log2(self.o_bar)\n",
    "        unc = term1+term2\n",
    "        # Find nans and convert to 0 \n",
    "        # Not infinity, as f in {0,1} dealt with already\n",
    "        return -unc\n",
    "    \n",
    "    def compute_bs(self):\n",
    "        return np.mean((self.o-self.f)**2)\n",
    "           \n",
    "        \n",
    "    "
   ],
   "metadata": {
    "collapsed": false,
    "ExecuteTime": {
     "end_time": "2023-10-31T18:37:18.407045Z",
     "start_time": "2023-10-31T18:37:18.389232Z"
    }
   },
   "id": "579e2f4070736de4"
  }
 ],
 "metadata": {
  "kernelspec": {
   "display_name": "Python 3",
   "language": "python",
   "name": "python3"
  },
  "language_info": {
   "codemirror_mode": {
    "name": "ipython",
    "version": 2
   },
   "file_extension": ".py",
   "mimetype": "text/x-python",
   "name": "python",
   "nbconvert_exporter": "python",
   "pygments_lexer": "ipython2",
   "version": "2.7.6"
  }
 },
 "nbformat": 4,
 "nbformat_minor": 5
}
