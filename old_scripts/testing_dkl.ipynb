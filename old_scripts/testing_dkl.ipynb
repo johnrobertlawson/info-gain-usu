{
 "cells": [
  {
   "cell_type": "code",
   "execution_count": 52,
   "id": "initial_id",
   "metadata": {
    "collapsed": true,
    "ExecuteTime": {
     "end_time": "2023-10-31T19:38:31.347040Z",
     "start_time": "2023-10-31T19:38:31.340850Z"
    }
   },
   "outputs": [],
   "source": [
    "import numpy as np \n",
    "\n",
    "class DKL:\n",
    "    def __init__(self,o,f,convert_1d_2d=False):\n",
    "        \"\"\"\n",
    "        o and f are 2-D vectors [num_samples, num_classes]\n",
    "        \n",
    "        If o and f are forecasting binary events (n=2), then\n",
    "        \n",
    "        o[0,:] = [1-o[0], o[0]]\n",
    "        \"\"\"\n",
    "        if convert_1d_2d:\n",
    "            self.f = self.generate_2d_twoclass(f)\n",
    "            self.o = self.generate_2d_twoclass(o)\n",
    "        else:\n",
    "            self.f = f \n",
    "            self.o = o \n",
    "        self.ns = np.unique(self.o, axis=0)\n",
    "        self.n = len(self.ns)\n",
    "        self.ks = np.unique(self.f, axis=0)\n",
    "        self.o_bar = np.mean(self.o,axis=1)\n",
    "        self.K = self.ks.shape[0]\n",
    "        # Multiple by classes? self.n\n",
    "        self.N = self.f.shape[0]\n",
    "        # assert self.f.shape[1] == self.n\n",
    "        print(f\"{self.n=}\")\n",
    "        print(f\"{self.ks=}\")\n",
    "        print(f\"{self.o_bar=}\")\n",
    "        print(f\"{self.K=}\")\n",
    "        print(f\"{self.N=}\")\n",
    "        print(f\"{self.f=}\")\n",
    "        print(f\"{self.o=}\")\n",
    "        \n",
    "    @staticmethod\n",
    "    def generate_2d_twoclass(series_1d):\n",
    "        data = np.zeros([len(series_1d),2])\n",
    "        data = np.array([1-series_1d, series_1d])\n",
    "        return data \n",
    "    \n",
    "    @staticmethod\n",
    "    def __compute_dkl(p,q,nclass):\n",
    "        \"\"\"\n",
    "        p and q must be 2D [num_samples, num_classes]\n",
    "        \"\"\"\n",
    "        print(p.shape,q.shape)\n",
    "        dkl_score = 0\n",
    "        for i in np.arange(nclass):\n",
    "            dkl_score += p[:,i] * np.log2(p[:,i]/q[:,i])\n",
    "        # dkl_score is 1D of all times\n",
    "        return np.mean(dkl_score)\n",
    "    \n",
    "    def compute_rel(self):\n",
    "        rel_score = 0\n",
    "        for k in self.ks:\n",
    "            fk = self.f[self.f == k]\n",
    "            ok = self.o[self.f == k]\n",
    "            ok_bar = np.mean(ok,axis=1)\n",
    "            nk = len(fk)\n",
    "            print(fk, ok, ok_bar, nk)\n",
    "            rel_score += nk * self.__compute_dkl(ok_bar,fk,self.n)\n",
    "        return rel_score / self.N\n",
    "    \n",
    "    def compute_res(self):\n",
    "        res_score = 0\n",
    "        for k in self.ks:\n",
    "            fk = self.f[self.f == k]\n",
    "            ok = self.o[self.f == k]\n",
    "            ok_bar = np.mean(ok)\n",
    "            nk = len(fk)\n",
    "            res_score += nk * self.__compute_dkl(ok_bar,self.o_bar,self.n)\n",
    "        return res_score / self.N \n",
    "    \n",
    "    def compute_unc(self):\n",
    "        unc_score = 0\n",
    "        for i in self.ns:\n",
    "            unc_score += self.o_bar[i] * np.log2(self.o_bar[i])\n",
    "        return -unc_score \n",
    "    \n",
    "    def compute_dkl(self,from_components=False):\n",
    "        if from_components:\n",
    "            UNC = self.compute_unc() \n",
    "            RES = self.compute_res()\n",
    "            REL = self.compute_rel()\n",
    "            return UNC - RES + REL \n",
    "        return self.__compute_dkl(self.o, self.f, self.n)\n",
    "            \n",
    "    @classmethod\n",
    "    def compute_info_gain(cls, o, f1, f2, nclass, from_components=False):\n",
    "        DKL1 = cls.__compute_dkl(o, f1, nclass)[1]\n",
    "        DKL2 = cls.__compute_dkl(o, f2, nclass)[1]\n",
    "        return DKL1 - DKL2\n",
    "\n",
    "    def compute_bs(self):\n",
    "        return np.mean((self.o-self.f)**2)\n",
    "\n",
    "    def compute_bss(self):\n",
    "        bs = self.compute_bs()\n",
    "        bs_unc = self.o_bar * (1-self.o_bar)\n",
    "        return 1 - (bs/bs_unc)\n",
    "\n",
    "    def compute_skill_score(self, return_components=True):\n",
    "        U = self.compute_unc()\n",
    "        R = self.compute_rel()\n",
    "        D = self.compute_res()\n",
    "        D_ss = D/U\n",
    "        R_ss = R/U\n",
    "        SS = D_ss - R_ss\n",
    "        if return_components:\n",
    "            return SS, D_ss, R_ss\n",
    "        return SS\n",
    "\n",
    "    def compute_info_gain_over_climo(self):\n",
    "        R = self.compute_rel()\n",
    "        D = self.compute_res()\n",
    "\n",
    "        # Info gain over using the base-rate for forecasts\n",
    "        return (D - R)\n",
    "        \n",
    "            \n",
    "            "
   ]
  },
  {
   "cell_type": "code",
   "execution_count": null,
   "outputs": [],
   "source": [],
   "metadata": {
    "collapsed": false
   },
   "id": "e7176964f53bd826"
  },
  {
   "cell_type": "code",
   "execution_count": 53,
   "outputs": [],
   "source": [
    "def generate_time_series(seed=42,num_samples=100):\n",
    "    # np.random.seed(seed)\n",
    "    rng = np.random.default_rng(seed=seed)\n",
    "\n",
    "    \n",
    "    # Generate the 'o' time series with ~5% frequency of '1'\n",
    "    # o = np.random.choice([0, 1], size=num_samples, p=[0.9, 0.1])\n",
    "    o = rng.choice([0, 1], size=num_samples, p=[0.8, 0.2])\n",
    "    \n",
    "    # Initialize 'f' as an empty array\n",
    "    f = np.zeros(num_samples)\n",
    "    \n",
    "    for i in range(num_samples):\n",
    "        if o[i] == 1:\n",
    "            # Generate a high probability value between 0.50 and 0.99\n",
    "\n",
    "            f[i] = rng.choice(np.arange(0.80, 0.995, 0.02))\n",
    "            # f[i] = np.random.choice(np.arange(0.70, 1.00, 0.01))\n",
    "        else:\n",
    "            # Generate a low probability value between 0.01 and 0.49\n",
    "            # f[i] = np.random.choice(np.arange(0.01, 0.20, 0.01))\n",
    "            f[i] = rng.choice(np.arange(0.02, 0.40, 0.02))\n",
    "            \n",
    "    return o, f\n",
    "\n",
    "# print(\"o:\", o)\n",
    "# print(\"f:\", f)\n"
   ],
   "metadata": {
    "collapsed": false,
    "ExecuteTime": {
     "end_time": "2023-10-31T19:38:31.348018Z",
     "start_time": "2023-10-31T19:38:31.345463Z"
    }
   },
   "id": "f6ad7478452c53b4"
  },
  {
   "cell_type": "code",
   "execution_count": 54,
   "outputs": [
    {
     "name": "stdout",
     "output_type": "stream",
     "text": [
      "self.n=2\n",
      "self.ks=array([[0.14, 0.36, 0.88, 0.28, 0.18, 0.84, 0.3 , 0.38, 0.12, 0.3 , 0.1 ,\n",
      "        0.94, 0.3 , 0.88, 0.3 , 0.12, 0.04, 0.04, 0.88, 0.36, 0.06, 0.18,\n",
      "        0.94, 0.84, 0.28, 0.12, 0.32, 0.24, 0.22, 0.08, 0.18, 0.96, 0.02,\n",
      "        0.3 , 0.2 , 0.28, 0.26, 0.18, 0.12, 0.24, 0.06, 0.9 , 0.04, 0.26,\n",
      "        0.92, 0.8 , 0.3 , 0.16, 0.3 , 0.02, 0.08, 0.2 , 0.08, 0.14, 0.26,\n",
      "        0.06, 0.26, 0.04, 0.08, 0.24, 0.32, 0.08, 0.12, 0.36, 0.38, 0.24,\n",
      "        0.18, 0.14, 0.24, 0.24, 0.12, 0.02, 0.82, 0.38, 0.16, 0.2 , 0.18,\n",
      "        0.3 , 0.04, 0.04, 0.12, 0.2 , 0.92, 0.2 , 0.18, 0.36, 0.08, 0.22,\n",
      "        0.22, 0.18, 0.32, 0.12, 0.38, 0.14, 0.22, 0.2 , 0.34, 0.18, 0.12,\n",
      "        0.8 ],\n",
      "       [0.86, 0.64, 0.12, 0.72, 0.82, 0.16, 0.7 , 0.62, 0.88, 0.7 , 0.9 ,\n",
      "        0.06, 0.7 , 0.12, 0.7 , 0.88, 0.96, 0.96, 0.12, 0.64, 0.94, 0.82,\n",
      "        0.06, 0.16, 0.72, 0.88, 0.68, 0.76, 0.78, 0.92, 0.82, 0.04, 0.98,\n",
      "        0.7 , 0.8 , 0.72, 0.74, 0.82, 0.88, 0.76, 0.94, 0.1 , 0.96, 0.74,\n",
      "        0.08, 0.2 , 0.7 , 0.84, 0.7 , 0.98, 0.92, 0.8 , 0.92, 0.86, 0.74,\n",
      "        0.94, 0.74, 0.96, 0.92, 0.76, 0.68, 0.92, 0.88, 0.64, 0.62, 0.76,\n",
      "        0.82, 0.86, 0.76, 0.76, 0.88, 0.98, 0.18, 0.62, 0.84, 0.8 , 0.82,\n",
      "        0.7 , 0.96, 0.96, 0.88, 0.8 , 0.08, 0.8 , 0.82, 0.64, 0.92, 0.78,\n",
      "        0.78, 0.82, 0.68, 0.88, 0.62, 0.86, 0.78, 0.8 , 0.66, 0.82, 0.88,\n",
      "        0.2 ]])\n",
      "self.o_bar=array([0.86, 0.14])\n",
      "self.K=2\n",
      "self.N=2\n",
      "self.f=array([[0.86, 0.64, 0.12, 0.72, 0.82, 0.16, 0.7 , 0.62, 0.88, 0.7 , 0.9 ,\n",
      "        0.06, 0.7 , 0.12, 0.7 , 0.88, 0.96, 0.96, 0.12, 0.64, 0.94, 0.82,\n",
      "        0.06, 0.16, 0.72, 0.88, 0.68, 0.76, 0.78, 0.92, 0.82, 0.04, 0.98,\n",
      "        0.7 , 0.8 , 0.72, 0.74, 0.82, 0.88, 0.76, 0.94, 0.1 , 0.96, 0.74,\n",
      "        0.08, 0.2 , 0.7 , 0.84, 0.7 , 0.98, 0.92, 0.8 , 0.92, 0.86, 0.74,\n",
      "        0.94, 0.74, 0.96, 0.92, 0.76, 0.68, 0.92, 0.88, 0.64, 0.62, 0.76,\n",
      "        0.82, 0.86, 0.76, 0.76, 0.88, 0.98, 0.18, 0.62, 0.84, 0.8 , 0.82,\n",
      "        0.7 , 0.96, 0.96, 0.88, 0.8 , 0.08, 0.8 , 0.82, 0.64, 0.92, 0.78,\n",
      "        0.78, 0.82, 0.68, 0.88, 0.62, 0.86, 0.78, 0.8 , 0.66, 0.82, 0.88,\n",
      "        0.2 ],\n",
      "       [0.14, 0.36, 0.88, 0.28, 0.18, 0.84, 0.3 , 0.38, 0.12, 0.3 , 0.1 ,\n",
      "        0.94, 0.3 , 0.88, 0.3 , 0.12, 0.04, 0.04, 0.88, 0.36, 0.06, 0.18,\n",
      "        0.94, 0.84, 0.28, 0.12, 0.32, 0.24, 0.22, 0.08, 0.18, 0.96, 0.02,\n",
      "        0.3 , 0.2 , 0.28, 0.26, 0.18, 0.12, 0.24, 0.06, 0.9 , 0.04, 0.26,\n",
      "        0.92, 0.8 , 0.3 , 0.16, 0.3 , 0.02, 0.08, 0.2 , 0.08, 0.14, 0.26,\n",
      "        0.06, 0.26, 0.04, 0.08, 0.24, 0.32, 0.08, 0.12, 0.36, 0.38, 0.24,\n",
      "        0.18, 0.14, 0.24, 0.24, 0.12, 0.02, 0.82, 0.38, 0.16, 0.2 , 0.18,\n",
      "        0.3 , 0.04, 0.04, 0.12, 0.2 , 0.92, 0.2 , 0.18, 0.36, 0.08, 0.22,\n",
      "        0.22, 0.18, 0.32, 0.12, 0.38, 0.14, 0.22, 0.2 , 0.34, 0.18, 0.12,\n",
      "        0.8 ]])\n",
      "self.o=array([[1, 1, 0, 1, 1, 0, 1, 1, 1, 1, 1, 0, 1, 0, 1, 1, 1, 1, 0, 1, 1, 1,\n",
      "        0, 0, 1, 1, 1, 1, 1, 1, 1, 0, 1, 1, 1, 1, 1, 1, 1, 1, 1, 0, 1, 1,\n",
      "        0, 0, 1, 1, 1, 1, 1, 1, 1, 1, 1, 1, 1, 1, 1, 1, 1, 1, 1, 1, 1, 1,\n",
      "        1, 1, 1, 1, 1, 1, 0, 1, 1, 1, 1, 1, 1, 1, 1, 1, 0, 1, 1, 1, 1, 1,\n",
      "        1, 1, 1, 1, 1, 1, 1, 1, 1, 1, 1, 0],\n",
      "       [0, 0, 1, 0, 0, 1, 0, 0, 0, 0, 0, 1, 0, 1, 0, 0, 0, 0, 1, 0, 0, 0,\n",
      "        1, 1, 0, 0, 0, 0, 0, 0, 0, 1, 0, 0, 0, 0, 0, 0, 0, 0, 0, 1, 0, 0,\n",
      "        1, 1, 0, 0, 0, 0, 0, 0, 0, 0, 0, 0, 0, 0, 0, 0, 0, 0, 0, 0, 0, 0,\n",
      "        0, 0, 0, 0, 0, 0, 1, 0, 0, 0, 0, 0, 0, 0, 0, 0, 1, 0, 0, 0, 0, 0,\n",
      "        0, 0, 0, 0, 0, 0, 0, 0, 0, 0, 0, 1]])\n"
     ]
    },
    {
     "data": {
      "text/plain": "[<matplotlib.lines.Line2D at 0x12ff86650>]"
     },
     "execution_count": 54,
     "metadata": {},
     "output_type": "execute_result"
    },
    {
     "data": {
      "text/plain": "<Figure size 640x480 with 1 Axes>",
      "image/png": "[encoded data removed]"
     },
     "metadata": {},
     "output_type": "display_data"
    }
   ],
   "source": [
    "from matplotlib import pyplot as plt\n",
    "\n",
    "o, f = generate_time_series()\n",
    "dkl_ = DKL(o,f,convert_1d_2d=True)\n",
    "\n",
    "fig,ax = plt.subplots(1)\n",
    "o_copy = o.copy()\n",
    "f_copy = f.copy()\n",
    "ind = np.argsort(o_copy)\n",
    "o_sort = o_copy[ind]\n",
    "f_sort = f_copy[ind]\n",
    "ax.plot(o_sort,color=\"green\")\n",
    "ax.plot(f_sort,color=\"red\")"
   ],
   "metadata": {
    "collapsed": false,
    "ExecuteTime": {
     "end_time": "2023-10-31T19:38:31.414287Z",
     "start_time": "2023-10-31T19:38:31.349079Z"
    }
   },
   "id": "4277c138fee8b7ac"
  },
  {
   "cell_type": "code",
   "execution_count": 55,
   "outputs": [
    {
     "name": "stdout",
     "output_type": "stream",
     "text": [
      "[0.58423881 0.58423881 0.58423881 0.58423881 0.58423881 0.58423881\n",
      " 0.58423881 0.58423881 0.58423881 0.58423881 0.58423881 0.58423881\n",
      " 0.58423881 0.58423881 0.58423881 0.58423881 0.58423881 0.58423881\n",
      " 0.58423881 0.58423881 0.58423881 0.58423881 0.58423881 0.58423881\n",
      " 0.58423881 0.58423881 0.58423881 0.58423881 0.58423881 0.58423881\n",
      " 0.58423881 0.58423881 0.58423881 0.58423881 0.58423881 0.58423881\n",
      " 0.58423881 0.58423881 0.58423881 0.58423881 0.58423881 0.58423881\n",
      " 0.58423881 0.58423881 0.58423881 0.58423881 0.58423881 0.58423881\n",
      " 0.58423881 0.58423881 0.58423881 0.58423881 0.58423881 0.58423881\n",
      " 0.58423881 0.58423881 0.58423881 0.58423881 0.58423881 0.58423881\n",
      " 0.58423881 0.58423881 0.58423881 0.58423881 0.58423881 0.58423881\n",
      " 0.58423881 0.58423881 0.58423881 0.58423881 0.58423881 0.58423881\n",
      " 0.58423881 0.58423881 0.58423881 0.58423881 0.58423881 0.58423881\n",
      " 0.58423881 0.58423881 0.58423881 0.58423881 0.58423881 0.58423881\n",
      " 0.58423881 0.58423881 0.58423881 0.58423881 0.58423881 0.58423881\n",
      " 0.58423881 0.58423881 0.58423881 0.58423881 0.58423881 0.58423881\n",
      " 0.58423881 0.58423881 0.58423881 0.58423881]\n"
     ]
    },
    {
     "ename": "AxisError",
     "evalue": "axis 1 is out of bounds for array of dimension 1",
     "output_type": "error",
     "traceback": [
      "\u001B[0;31m---------------------------------------------------------------------------\u001B[0m",
      "\u001B[0;31mAxisError\u001B[0m                                 Traceback (most recent call last)",
      "Cell \u001B[0;32mIn[55], line 2\u001B[0m\n\u001B[1;32m      1\u001B[0m \u001B[38;5;28mprint\u001B[39m(dkl_\u001B[38;5;241m.\u001B[39mcompute_unc())\n\u001B[0;32m----> 2\u001B[0m \u001B[38;5;28mprint\u001B[39m(\u001B[43mdkl_\u001B[49m\u001B[38;5;241;43m.\u001B[39;49m\u001B[43mcompute_rel\u001B[49m\u001B[43m(\u001B[49m\u001B[43m)\u001B[49m)\n\u001B[1;32m      3\u001B[0m \u001B[38;5;28mprint\u001B[39m(dkl_\u001B[38;5;241m.\u001B[39mcompute_res())\n\u001B[1;32m      4\u001B[0m \u001B[38;5;28mprint\u001B[39m(dkl_\u001B[38;5;241m.\u001B[39mcompute_dkl())\n",
      "Cell \u001B[0;32mIn[52], line 57\u001B[0m, in \u001B[0;36mDKL.compute_rel\u001B[0;34m(self)\u001B[0m\n\u001B[1;32m     55\u001B[0m fk \u001B[38;5;241m=\u001B[39m \u001B[38;5;28mself\u001B[39m\u001B[38;5;241m.\u001B[39mf[\u001B[38;5;28mself\u001B[39m\u001B[38;5;241m.\u001B[39mf \u001B[38;5;241m==\u001B[39m k]\n\u001B[1;32m     56\u001B[0m ok \u001B[38;5;241m=\u001B[39m \u001B[38;5;28mself\u001B[39m\u001B[38;5;241m.\u001B[39mo[\u001B[38;5;28mself\u001B[39m\u001B[38;5;241m.\u001B[39mf \u001B[38;5;241m==\u001B[39m k]\n\u001B[0;32m---> 57\u001B[0m ok_bar \u001B[38;5;241m=\u001B[39m \u001B[43mnp\u001B[49m\u001B[38;5;241;43m.\u001B[39;49m\u001B[43mmean\u001B[49m\u001B[43m(\u001B[49m\u001B[43mok\u001B[49m\u001B[43m,\u001B[49m\u001B[43maxis\u001B[49m\u001B[38;5;241;43m=\u001B[39;49m\u001B[38;5;241;43m1\u001B[39;49m\u001B[43m)\u001B[49m\n\u001B[1;32m     58\u001B[0m nk \u001B[38;5;241m=\u001B[39m \u001B[38;5;28mlen\u001B[39m(fk)\n\u001B[1;32m     59\u001B[0m \u001B[38;5;28mprint\u001B[39m(fk, ok, ok_bar, nk)\n",
      "File \u001B[0;32m~/anaconda3/envs/infogain63/lib/python3.11/site-packages/numpy/core/fromnumeric.py:3504\u001B[0m, in \u001B[0;36mmean\u001B[0;34m(a, axis, dtype, out, keepdims, where)\u001B[0m\n\u001B[1;32m   3501\u001B[0m     \u001B[38;5;28;01melse\u001B[39;00m:\n\u001B[1;32m   3502\u001B[0m         \u001B[38;5;28;01mreturn\u001B[39;00m mean(axis\u001B[38;5;241m=\u001B[39maxis, dtype\u001B[38;5;241m=\u001B[39mdtype, out\u001B[38;5;241m=\u001B[39mout, \u001B[38;5;241m*\u001B[39m\u001B[38;5;241m*\u001B[39mkwargs)\n\u001B[0;32m-> 3504\u001B[0m \u001B[38;5;28;01mreturn\u001B[39;00m \u001B[43m_methods\u001B[49m\u001B[38;5;241;43m.\u001B[39;49m\u001B[43m_mean\u001B[49m\u001B[43m(\u001B[49m\u001B[43ma\u001B[49m\u001B[43m,\u001B[49m\u001B[43m \u001B[49m\u001B[43maxis\u001B[49m\u001B[38;5;241;43m=\u001B[39;49m\u001B[43maxis\u001B[49m\u001B[43m,\u001B[49m\u001B[43m \u001B[49m\u001B[43mdtype\u001B[49m\u001B[38;5;241;43m=\u001B[39;49m\u001B[43mdtype\u001B[49m\u001B[43m,\u001B[49m\n\u001B[1;32m   3505\u001B[0m \u001B[43m                      \u001B[49m\u001B[43mout\u001B[49m\u001B[38;5;241;43m=\u001B[39;49m\u001B[43mout\u001B[49m\u001B[43m,\u001B[49m\u001B[43m \u001B[49m\u001B[38;5;241;43m*\u001B[39;49m\u001B[38;5;241;43m*\u001B[39;49m\u001B[43mkwargs\u001B[49m\u001B[43m)\u001B[49m\n",
      "File \u001B[0;32m~/anaconda3/envs/infogain63/lib/python3.11/site-packages/numpy/core/_methods.py:106\u001B[0m, in \u001B[0;36m_mean\u001B[0;34m(a, axis, dtype, out, keepdims, where)\u001B[0m\n\u001B[1;32m    102\u001B[0m arr \u001B[38;5;241m=\u001B[39m asanyarray(a)\n\u001B[1;32m    104\u001B[0m is_float16_result \u001B[38;5;241m=\u001B[39m \u001B[38;5;28;01mFalse\u001B[39;00m\n\u001B[0;32m--> 106\u001B[0m rcount \u001B[38;5;241m=\u001B[39m \u001B[43m_count_reduce_items\u001B[49m\u001B[43m(\u001B[49m\u001B[43marr\u001B[49m\u001B[43m,\u001B[49m\u001B[43m \u001B[49m\u001B[43maxis\u001B[49m\u001B[43m,\u001B[49m\u001B[43m \u001B[49m\u001B[43mkeepdims\u001B[49m\u001B[38;5;241;43m=\u001B[39;49m\u001B[43mkeepdims\u001B[49m\u001B[43m,\u001B[49m\u001B[43m \u001B[49m\u001B[43mwhere\u001B[49m\u001B[38;5;241;43m=\u001B[39;49m\u001B[43mwhere\u001B[49m\u001B[43m)\u001B[49m\n\u001B[1;32m    107\u001B[0m \u001B[38;5;28;01mif\u001B[39;00m rcount \u001B[38;5;241m==\u001B[39m \u001B[38;5;241m0\u001B[39m \u001B[38;5;28;01mif\u001B[39;00m where \u001B[38;5;129;01mis\u001B[39;00m \u001B[38;5;28;01mTrue\u001B[39;00m \u001B[38;5;28;01melse\u001B[39;00m umr_any(rcount \u001B[38;5;241m==\u001B[39m \u001B[38;5;241m0\u001B[39m, axis\u001B[38;5;241m=\u001B[39m\u001B[38;5;28;01mNone\u001B[39;00m):\n\u001B[1;32m    108\u001B[0m     warnings\u001B[38;5;241m.\u001B[39mwarn(\u001B[38;5;124m\"\u001B[39m\u001B[38;5;124mMean of empty slice.\u001B[39m\u001B[38;5;124m\"\u001B[39m, \u001B[38;5;167;01mRuntimeWarning\u001B[39;00m, stacklevel\u001B[38;5;241m=\u001B[39m\u001B[38;5;241m2\u001B[39m)\n",
      "File \u001B[0;32m~/anaconda3/envs/infogain63/lib/python3.11/site-packages/numpy/core/_methods.py:77\u001B[0m, in \u001B[0;36m_count_reduce_items\u001B[0;34m(arr, axis, keepdims, where)\u001B[0m\n\u001B[1;32m     75\u001B[0m     items \u001B[38;5;241m=\u001B[39m \u001B[38;5;241m1\u001B[39m\n\u001B[1;32m     76\u001B[0m     \u001B[38;5;28;01mfor\u001B[39;00m ax \u001B[38;5;129;01min\u001B[39;00m axis:\n\u001B[0;32m---> 77\u001B[0m         items \u001B[38;5;241m*\u001B[39m\u001B[38;5;241m=\u001B[39m arr\u001B[38;5;241m.\u001B[39mshape[mu\u001B[38;5;241m.\u001B[39mnormalize_axis_index(ax, arr\u001B[38;5;241m.\u001B[39mndim)]\n\u001B[1;32m     78\u001B[0m     items \u001B[38;5;241m=\u001B[39m nt\u001B[38;5;241m.\u001B[39mintp(items)\n\u001B[1;32m     79\u001B[0m \u001B[38;5;28;01melse\u001B[39;00m:\n\u001B[1;32m     80\u001B[0m     \u001B[38;5;66;03m# TODO: Optimize case when `where` is broadcast along a non-reduction\u001B[39;00m\n\u001B[1;32m     81\u001B[0m     \u001B[38;5;66;03m# axis and full sum is more excessive than needed.\u001B[39;00m\n\u001B[1;32m     82\u001B[0m \n\u001B[1;32m     83\u001B[0m     \u001B[38;5;66;03m# guarded to protect circular imports\u001B[39;00m\n",
      "\u001B[0;31mAxisError\u001B[0m: axis 1 is out of bounds for array of dimension 1"
     ]
    }
   ],
   "source": [
    "print(dkl_.compute_unc())\n",
    "print(dkl_.compute_rel())\n",
    "print(dkl_.compute_res())\n",
    "print(dkl_.compute_dkl())"
   ],
   "metadata": {
    "collapsed": false,
    "ExecuteTime": {
     "end_time": "2023-10-31T19:38:31.470104Z",
     "start_time": "2023-10-31T19:38:31.414417Z"
    }
   },
   "id": "72fb03ee1e79bf0c"
  },
  {
   "cell_type": "code",
   "execution_count": null,
   "outputs": [],
   "source": [
    "bs = dkl_.compute_bs()\n",
    "bss = dkl_.compute_bss()\n",
    "print(f\"{bs=} \\n {bss=}\")\n",
    "\n",
    "SS, D_ss, R_ss = dkl_.compute_skill_score(return_components=True)\n",
    "print(f\"{SS=} \\n {D_ss=} \\n {R_ss=}\")\n",
    "\n",
    "ig = dkl_.compute_info_gain_over_climo()\n",
    "print(f\"{ig=}\")    "
   ],
   "metadata": {
    "collapsed": false,
    "ExecuteTime": {
     "start_time": "2023-10-31T19:38:31.438336Z"
    }
   },
   "id": "d837a361f613be68"
  }
 ],
 "metadata": {
  "kernelspec": {
   "display_name": "Python 3",
   "language": "python",
   "name": "python3"
  },
  "language_info": {
   "codemirror_mode": {
    "name": "ipython",
    "version": 2
   },
   "file_extension": ".py",
   "mimetype": "text/x-python",
   "name": "python",
   "nbconvert_exporter": "python",
   "pygments_lexer": "ipython2",
   "version": "2.7.6"
  }
 },
 "nbformat": 4,
 "nbformat_minor": 5
}
