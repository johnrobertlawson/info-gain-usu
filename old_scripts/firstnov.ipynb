{
 "cells": [
  {
   "cell_type": "code",
   "execution_count": 105,
   "outputs": [],
   "source": [
    "import numpy as np\n",
    "from scipy.stats import entropy\n",
    "from scipy.special import rel_entr\n",
    "\n",
    "class REL_DS:\n",
    "    def __init__(self):\n",
    "        self.forecast_bins = np.arange(0.01, 1, 0.01)\n",
    "        self.data = {p: [] for p in self.forecast_bins}\n",
    "        self.eps = 1E-8\n",
    "\n",
    "    def add_pair(self, forecast, observation):\n",
    "        # Find the closest forecast bin for the given forecast\n",
    "        bin_idx = np.argmin(np.abs(self.forecast_bins - forecast))\n",
    "        closest_bin = self.forecast_bins[bin_idx]\n",
    "        self.data[closest_bin].append(observation)\n",
    "\n",
    "    def compute_rel_ds(self):\n",
    "        N = sum([len(observations) for observations in self.data.values()])\n",
    "        total = 0\n",
    "\n",
    "        for forecast_prob, observations in self.data.items():\n",
    "            n_k = len(observations)\n",
    "            if n_k == 0:\n",
    "                continue\n",
    "\n",
    "            # Empirical PMF\n",
    "            o_bar = [1 - np.mean(observations) + self.eps, np.mean(observations)+self.eps]\n",
    "            f_k = [self.eps + (1 - forecast_prob), self.eps + forecast_prob]\n",
    "\n",
    "            # KL divergence calculation\n",
    "            kl_div = rel_entr(o_bar, f_k).sum()\n",
    "            total += n_k * kl_div\n",
    "\n",
    "        return total / N\n"
   ],
   "metadata": {
    "collapsed": false,
    "ExecuteTime": {
     "end_time": "2023-11-01T20:15:34.118597Z",
     "start_time": "2023-11-01T20:15:34.095646Z"
    }
   },
   "id": "initial_id"
  },
  {
   "cell_type": "code",
   "execution_count": 106,
   "outputs": [],
   "source": [
    "class RES_DS:\n",
    "    def __init__(self):\n",
    "        self.forecast_obs_pmf = {}  # Joint PMF p(f, o)\n",
    "        self.N = 0  # Total forecasts\n",
    "        self.overall_o = np.array([0, 0])  # Marginal PMF p(o)\n",
    "        self.eps = 1E-8  # To prevent log(0)\n",
    "\n",
    "    def add_pair(self, forecast, observation):\n",
    "        self.N += 1\n",
    "        self.overall_o[observation] += 1\n",
    "        \n",
    "        if forecast not in self.forecast_obs_pmf:\n",
    "            self.forecast_obs_pmf[forecast] = np.array([0, 0])\n",
    "        self.forecast_obs_pmf[forecast][observation] += 1\n",
    "\n",
    "    def compute_entropy(self, pmf):\n",
    "        normalized_pmf = pmf / np.sum(pmf)\n",
    "        entropy = -np.sum(normalized_pmf * np.log(normalized_pmf + self.eps))\n",
    "        return entropy\n",
    "    \n",
    "    def compute_conditional_entropy(self,observations, forecasts):\n",
    "        # Joint distribution of O and F\n",
    "        joint_pmf, _, _ = np.histogram2d(observations, forecasts, bins=(len(np.unique(observations)), len(np.unique(forecasts))), density=True)\n",
    "        \n",
    "        # Marginal distribution of O\n",
    "        obs_pmf, _ = np.histogram(observations, bins=len(np.unique(observations)), density=True)\n",
    "        \n",
    "        # Marginal distribution of F\n",
    "        forecast_pmf, _ = np.histogram(forecasts, bins=len(np.unique(forecasts)), density=True)\n",
    "    \n",
    "        # Compute conditional entropy using the formula\n",
    "        conditional_entropy = 0\n",
    "        for i in range(joint_pmf.shape[0]):\n",
    "            for j in range(joint_pmf.shape[1]):\n",
    "                if joint_pmf[i][j] > 0:  # to avoid log(0)\n",
    "                    conditional_entropy += joint_pmf[i][j] * np.log(forecast_pmf[j] / joint_pmf[i][j])\n",
    "    \n",
    "        return conditional_entropy\n",
    "\n",
    "    def compute_res_ds(self,o,f):\n",
    "        # Calculate H(O)\n",
    "        h_o = self.compute_entropy(self.overall_o)\n",
    "        \n",
    "        # Calculate H(O|F)\n",
    "        # h_o_given_f = 0\n",
    "        # for forecast, obs_pmf in self.forecast_obs_pmf.items():\n",
    "        #     p_f = np.sum(obs_pmf) / self.N\n",
    "            # conditional_entropy = self.compute_entropy(obs_pmf)\n",
    "            # conditional_entropy = entropy(obs_pmf,condition=)\n",
    "            # conditional_entropy = self.conditional_entropy(obs_pmf,forecast)\n",
    "            # h_o_given_f += p_f * conditional_entropy\n",
    "        h_o_given_f = self.compute_conditional_entropy(o,f)\n",
    "        \n",
    "        # Calculate RES\n",
    "        res = (h_o - h_o_given_f)/self.N\n",
    "        \n",
    "        return res\n"
   ],
   "metadata": {
    "collapsed": false,
    "ExecuteTime": {
     "end_time": "2023-11-01T20:15:34.119122Z",
     "start_time": "2023-11-01T20:15:34.103726Z"
    }
   },
   "id": "55a4f27e96ad85c0"
  },
  {
   "cell_type": "code",
   "execution_count": 107,
   "outputs": [],
   "source": [
    "def compute_unc_ds(o, eps=1E-8):\n",
    "    \"\"\"\n",
    "    Compute the UNC_DS metric for the overall empirical PMF of observations.\n",
    "    \n",
    "    Parameters:\n",
    "        - o : 1-D vector\n",
    "    \n",
    "    \n",
    "    Returns:\n",
    "    - unc_ds: The UNC_DS metric.\n",
    "    \"\"\"\n",
    "    # overall_o: The overall empirical PMF of observations (2-element vector)\n",
    "    overall_o = [1 - np.mean(o) + eps, np.mean(o)+eps]\n",
    "    \n",
    "    # Ensure the PMF is normalized\n",
    "    overall_o_normalized = overall_o / np.sum(overall_o)\n",
    "\n",
    "    # Compute entropy\n",
    "    entropy = -np.sum(overall_o_normalized * np.log(overall_o_normalized + eps))\n",
    "    \n",
    "    return entropy\n"
   ],
   "metadata": {
    "collapsed": false,
    "ExecuteTime": {
     "end_time": "2023-11-01T20:15:34.127981Z",
     "start_time": "2023-11-01T20:15:34.107045Z"
    }
   },
   "id": "788d6caf97afd700"
  },
  {
   "cell_type": "code",
   "execution_count": 108,
   "outputs": [],
   "source": [
    "def compute_ds(o_series, f_series,eps=1E-8):\n",
    "    \"\"\"\n",
    "    Compute the DS metric for a time series of observed and forecasted probabilities.\n",
    "    \n",
    "    Parameters:\n",
    "    - o_series: A list of observed probabilities (2-element vectors) for each time step.\n",
    "    - f_series: A list of forecasted probabilities (2-element vectors) for each time step.\n",
    "    \n",
    "    Returns:\n",
    "    - ds: The DS metric.\n",
    "    \"\"\"\n",
    "    assert len(o_series) == len(f_series), \"Mismatch in length of observation and forecast series\"\n",
    "    \n",
    "    N = len(o_series)\n",
    "    total_kl_divergence = 0.0\n",
    "    \n",
    "    for t in range(N):\n",
    "        # Compute KL divergence for the t-th time step\n",
    "        # kl_div_t = kl_divergence(o_series[t], f_series[t])\n",
    "        # print(o_series[t],f_series[t])\n",
    "        # kl_div_t = entropy(o_series[t]+eps, f_series[t]+eps,2)\n",
    "        kl_div_t = rel_entr(o_series[t]+eps,f_series[t]+eps)\n",
    "\n",
    "        total_kl_divergence += kl_div_t\n",
    "\n",
    "    ds = total_kl_divergence / N\n",
    "    return ds\n"
   ],
   "metadata": {
    "collapsed": false,
    "ExecuteTime": {
     "end_time": "2023-11-01T20:15:34.128363Z",
     "start_time": "2023-11-01T20:15:34.110671Z"
    }
   },
   "id": "dafee65da7490804"
  },
  {
   "cell_type": "code",
   "execution_count": 109,
   "outputs": [],
   "source": [
    "def generate_time_series(seed=42,num_samples=100):\n",
    "    rng = np.random.default_rng(seed=seed)\n",
    "\n",
    "    o = rng.choice([0, 1], size=num_samples, p=[0.5, 0.5])\n",
    "    \n",
    "    f = np.zeros(num_samples)\n",
    "    \n",
    "    for i in range(num_samples):\n",
    "        if o[i] == 1:\n",
    "            f[i] = rng.choice(np.arange(0.6, 0.98, 0.01))\n",
    "        else:\n",
    "            f[i] = rng.choice(np.arange(0.02, 0.45, 0.01))\n",
    "    return o, f\n",
    "\n",
    "o, f = generate_time_series()\n",
    "o = np.round(o, 2)\n",
    "f = np.round(f, 2)\n",
    "time_series = list(zip(f, o))\n",
    "# print(o)\n",
    "# print(f)"
   ],
   "metadata": {
    "collapsed": false,
    "ExecuteTime": {
     "end_time": "2023-11-01T20:15:34.128801Z",
     "start_time": "2023-11-01T20:15:34.117148Z"
    }
   },
   "id": "ceeda520b725684d"
  },
  {
   "cell_type": "code",
   "execution_count": 110,
   "outputs": [
    {
     "name": "stdout",
     "output_type": "stream",
     "text": [
      "0.691346079073826\n"
     ]
    }
   ],
   "source": [
    "UNC = compute_unc_ds(o)\n",
    "print(UNC)"
   ],
   "metadata": {
    "collapsed": false,
    "ExecuteTime": {
     "end_time": "2023-11-01T20:15:34.129218Z",
     "start_time": "2023-11-01T20:15:34.119437Z"
    }
   },
   "id": "39574b470d137425"
  },
  {
   "cell_type": "code",
   "execution_count": 111,
   "outputs": [
    {
     "name": "stdout",
     "output_type": "stream",
     "text": [
      "0.8386900774619516\n"
     ]
    }
   ],
   "source": [
    "res_calculator = RES_DS()\n",
    "for forecast, observation in time_series:  # assuming time_series is a list of forecast/observation pairs\n",
    "    res_calculator.add_pair(forecast, observation)\n",
    "\n",
    "res_ds_value = res_calculator.compute_res_ds(o,f)\n",
    "print(res_ds_value)"
   ],
   "metadata": {
    "collapsed": false,
    "ExecuteTime": {
     "end_time": "2023-11-01T20:15:34.129475Z",
     "start_time": "2023-11-01T20:15:34.121994Z"
    }
   },
   "id": "871cbd72bbfc6a81"
  },
  {
   "cell_type": "code",
   "execution_count": 112,
   "outputs": [
    {
     "name": "stdout",
     "output_type": "stream",
     "text": [
      "0.2671843712870085\n"
     ]
    }
   ],
   "source": [
    "\n",
    "rel_calculator = REL_DS()\n",
    "for forecast, observation in time_series:  # assuming time_series is a list of forecast/observation pairs\n",
    "    rel_calculator.add_pair(forecast, observation)\n",
    "\n",
    "rel_ds_value = rel_calculator.compute_rel_ds()\n",
    "print(rel_ds_value)\n",
    "\n"
   ],
   "metadata": {
    "collapsed": false,
    "ExecuteTime": {
     "end_time": "2023-11-01T20:15:34.130643Z",
     "start_time": "2023-11-01T20:15:34.126769Z"
    }
   },
   "id": "be2e5250c95e4ed8"
  },
  {
   "cell_type": "code",
   "execution_count": 113,
   "outputs": [
    {
     "name": "stdout",
     "output_type": "stream",
     "text": [
      "0.12625846495741266\n"
     ]
    }
   ],
   "source": [
    "ds = compute_ds(o,f)\n",
    "print(ds)"
   ],
   "metadata": {
    "collapsed": false,
    "ExecuteTime": {
     "end_time": "2023-11-01T20:15:34.134189Z",
     "start_time": "2023-11-01T20:15:34.129424Z"
    }
   },
   "id": "be33957e7f6b6077"
  },
  {
   "cell_type": "code",
   "execution_count": 114,
   "outputs": [
    {
     "name": "stdout",
     "output_type": "stream",
     "text": [
      "0.11984037289888289\n"
     ]
    }
   ],
   "source": [
    "print(UNC - res_ds_value + rel_ds_value)"
   ],
   "metadata": {
    "collapsed": false,
    "ExecuteTime": {
     "end_time": "2023-11-01T20:15:34.139880Z",
     "start_time": "2023-11-01T20:15:34.131713Z"
    }
   },
   "id": "6ce9ca1a2a8437e3"
  },
  {
   "cell_type": "code",
   "execution_count": 115,
   "outputs": [],
   "source": [
    "# log2(e) = 1.442695"
   ],
   "metadata": {
    "collapsed": false,
    "ExecuteTime": {
     "end_time": "2023-11-01T20:15:34.140340Z",
     "start_time": "2023-11-01T20:15:34.133612Z"
    }
   },
   "id": "a5bd6c44910d5135"
  },
  {
   "cell_type": "code",
   "execution_count": 115,
   "outputs": [],
   "source": [],
   "metadata": {
    "collapsed": false,
    "ExecuteTime": {
     "end_time": "2023-11-01T20:15:34.140465Z",
     "start_time": "2023-11-01T20:15:34.135746Z"
    }
   },
   "id": "ae8982e528f7a638"
  },
  {
   "cell_type": "code",
   "execution_count": 116,
   "outputs": [
    {
     "ename": "Exception",
     "evalue": "",
     "output_type": "error",
     "traceback": [
      "\u001B[0;31m---------------------------------------------------------------------------\u001B[0m",
      "\u001B[0;31mException\u001B[0m                                 Traceback (most recent call last)",
      "Cell \u001B[0;32mIn[116], line 1\u001B[0m\n\u001B[0;32m----> 1\u001B[0m \u001B[38;5;28;01mraise\u001B[39;00m \u001B[38;5;167;01mException\u001B[39;00m \n",
      "\u001B[0;31mException\u001B[0m: "
     ]
    }
   ],
   "source": [
    "raise Exception "
   ],
   "metadata": {
    "collapsed": false,
    "ExecuteTime": {
     "end_time": "2023-11-01T20:15:34.147653Z",
     "start_time": "2023-11-01T20:15:34.138943Z"
    }
   },
   "id": "e8cc0b8abbde462"
  }
 ],
 "metadata": {
  "kernelspec": {
   "display_name": "Python 3",
   "language": "python",
   "name": "python3"
  },
  "language_info": {
   "codemirror_mode": {
    "name": "ipython",
    "version": 2
   },
   "file_extension": ".py",
   "mimetype": "text/x-python",
   "name": "python",
   "nbconvert_exporter": "python",
   "pygments_lexer": "ipython2",
   "version": "2.7.6"
  }
 },
 "nbformat": 4,
 "nbformat_minor": 5
}
