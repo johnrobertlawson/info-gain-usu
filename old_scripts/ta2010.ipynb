{
 "cells": [
  {
   "cell_type": "code",
   "execution_count": 53,
   "id": "initial_id",
   "metadata": {
    "collapsed": true,
    "ExecuteTime": {
     "end_time": "2023-10-31T21:15:57.755253Z",
     "start_time": "2023-10-31T21:15:57.748340Z"
    }
   },
   "outputs": [],
   "source": [
    "import warnings\n",
    "from collections.abc import Iterable\n",
    "\n",
    "import numpy as np\n",
    "\n",
    "# np.seterr(divide='ignore')\n",
    "# warnings.filterwarnings('ignore')\n",
    "warnings.simplefilter('error')\n",
    "\n",
    "class IGN:\n",
    "    def __init__(self,z,y,dec_places=2):\n",
    "        # Obs probs \n",
    "        self.z = z\n",
    "        # Forecast probs \n",
    "        self.y = y\n",
    "        # Number of times \n",
    "        self.T = len(self.z)\n",
    "        # Base-rate \n",
    "        self.z_bar = np.mean(self.z)\n",
    "        # Unique probabilities \n",
    "        self.I = sorted(set(np.round(self.y, dec_places)))\n",
    "        \n",
    "        assert np.max(self.y) < 1.0\n",
    "        assert np.min(self.y) > 0.0\n",
    "        self.eps = 1E-8\n",
    "        \n",
    "    @staticmethod\n",
    "    def __compute_dkl(p,q,eps):\n",
    "        dkl_score = (p * np.log2(p+eps/q+eps)) + ((1-p) * np.log2((1-p+eps)/(1-q+eps)))\n",
    "        return np.mean(dkl_score)\n",
    "    \n",
    "    def compute_ign(self,from_components=False):\n",
    "        if from_components:\n",
    "            UNC = self.compute_unc() \n",
    "            REL = self.compute_rel()\n",
    "            RES = self.compute_res()\n",
    "            return (UNC - RES + REL)\n",
    "        # ign = -np.sum(np.log2(np.abs(self.y - (1-self.z))))\n",
    "        # return ign/self.T\n",
    "        ign = self.__compute_dkl(self.z, self.y, self.eps)\n",
    "        return ign \n",
    "    \n",
    "    def compute_rel(self):\n",
    "        rel_score = 0\n",
    "        for yi in self.I:\n",
    "            y_subset = self.y[self.y == yi]\n",
    "            num_fcsts = len(y_subset)\n",
    "            pyi = num_fcsts/self.T\n",
    "            z_subset = self.z[self.y == yi]\n",
    "            if len(z_subset) == 0:\n",
    "                continue\n",
    "            zi_bar = np.mean(z_subset)\n",
    "            rel_score += (pyi * ( (zi_bar * np.log2( zi_bar+self.eps  /   yi+self.eps  )) + ((1-zi_bar)*np.log2(   (1-zi_bar+self.eps)/   (1-yi+self.eps   )) ) ) )\n",
    "        return rel_score \n",
    "        \n",
    "    def compute_res(self):\n",
    "        res_score = 0\n",
    "        for yi in self.I:\n",
    "            y_subset = self.y[self.y == yi]\n",
    "            num_fcsts = len(y_subset)\n",
    "            pyi = num_fcsts/self.T\n",
    "            z_subset = self.z[self.y == yi]\n",
    "            if len(z_subset) == 0:\n",
    "                continue\n",
    "            zi_bar = np.mean(z_subset)\n",
    "            res_score += (pyi * ( (zi_bar * np.log2( zi_bar+self.eps  /   self.z_bar+self.eps  )) + ((1-zi_bar)*np.log2(   (1-zi_bar+self.eps)/   (1-self.z_bar+self.eps   )) ) ) )\n",
    "        return res_score        \n",
    "    \n",
    "    def compute_unc(self):\n",
    "        return (-self.z_bar * np.log2(self.z_bar + self.eps)) - ((1-self.z_bar)*np.log2(1-self.z_bar+self.eps))\n",
    "    \n",
    "    @classmethod\n",
    "    def compute_info_gain(cls, o, f1, f2, eps, from_components=False):\n",
    "        DKL1 = cls.__compute_dkl(o, f1, eps)[1]\n",
    "        DKL2 = cls.__compute_dkl(o, f2, eps)[1]\n",
    "        return DKL1 - DKL2\n",
    "\n",
    "    def compute_bs(self):\n",
    "        return np.mean((self.z-self.y)**2)\n",
    "\n",
    "    def compute_bss(self):\n",
    "        bs = self.compute_bs()\n",
    "        bs_unc = self.z_bar * (1-self.z_bar)\n",
    "        return 1 - (bs/bs_unc)\n",
    "\n",
    "    def compute_skill_score(self, return_components=True):\n",
    "        U = self.compute_unc()\n",
    "        R = self.compute_rel()\n",
    "        D = self.compute_res()\n",
    "        D_ss = D/U\n",
    "        R_ss = R/U\n",
    "        SS = D_ss - R_ss\n",
    "        if return_components:\n",
    "            return SS, D_ss, R_ss\n",
    "        return SS\n",
    "\n",
    "    def compute_info_gain_over_climo(self):\n",
    "        R = self.compute_rel()\n",
    "        D = self.compute_res()\n",
    "        # Info gain over using the base-rate for forecasts\n",
    "        return (D - R)"
   ]
  },
  {
   "cell_type": "code",
   "execution_count": 54,
   "outputs": [
    {
     "name": "stdout",
     "output_type": "stream",
     "text": [
      "[0 0 1 ... 0 0 0]\n",
      "[0.03 0.43 0.52 ... 0.18 0.44 0.51]\n"
     ]
    }
   ],
   "source": [
    "def generate_time_series(seed=42,num_samples=10000):\n",
    "    rng = np.random.default_rng(seed=seed)\n",
    "\n",
    "    o = rng.choice([0, 1], size=num_samples, p=[0.8, 0.2])\n",
    "    \n",
    "    f = np.zeros(num_samples)\n",
    "    \n",
    "    for i in range(num_samples):\n",
    "        if o[i] == 1:\n",
    "            f[i] = rng.choice(np.arange(0.40, 0.995, 0.01))\n",
    "        else:\n",
    "            f[i] = rng.choice(np.arange(0.01, 0.60, 0.01))\n",
    "    return o, f\n",
    "\n",
    "o, f = generate_time_series()\n",
    "print(o)\n",
    "print(f)"
   ],
   "metadata": {
    "collapsed": false,
    "ExecuteTime": {
     "end_time": "2023-10-31T21:15:57.823266Z",
     "start_time": "2023-10-31T21:15:57.758116Z"
    }
   },
   "id": "64b45bbda8c2b15c"
  },
  {
   "cell_type": "code",
   "execution_count": 55,
   "outputs": [
    {
     "name": "stdout",
     "output_type": "stream",
     "text": [
      "0.7126321123563446\n",
      "0.22283304791008754\n",
      "0.39638657255553217\n",
      "0.4553202605521375\n",
      "0.8861856370017893\n"
     ]
    }
   ],
   "source": [
    "ign = IGN(o,f)\n",
    "\n",
    "print(ign.compute_unc())\n",
    "print(ign.compute_res())\n",
    "print(ign.compute_rel())\n",
    "print(ign.compute_ign())\n",
    "print(ign.compute_ign(from_components=True))\n"
   ],
   "metadata": {
    "collapsed": false,
    "ExecuteTime": {
     "end_time": "2023-10-31T21:15:57.833820Z",
     "start_time": "2023-10-31T21:15:57.824708Z"
    }
   },
   "id": "37b42c2ccde7cc8b"
  },
  {
   "cell_type": "code",
   "execution_count": 56,
   "outputs": [
    {
     "name": "stdout",
     "output_type": "stream",
     "text": [
      "bs=0.12144117999999998, bss=0.2275659838222952\n",
      "SS=-0.24353873707933738, D_ss=0.3126901581424415, R_ss=0.5562288952217789\n"
     ]
    }
   ],
   "source": [
    "bs = ign.compute_bs()\n",
    "bss = ign.compute_bss()\n",
    "print(f\"{bs=}, {bss=}\")\n",
    "\n",
    "SS, D_ss, R_ss = ign.compute_skill_score(return_components=True)\n",
    "print(f\"{SS=}, {D_ss=}, {R_ss=}\")\n"
   ],
   "metadata": {
    "collapsed": false,
    "ExecuteTime": {
     "end_time": "2023-10-31T21:15:57.838572Z",
     "start_time": "2023-10-31T21:15:57.831741Z"
    }
   },
   "id": "4aa6bcf8227843df"
  },
  {
   "cell_type": "code",
   "execution_count": 56,
   "outputs": [],
   "source": [],
   "metadata": {
    "collapsed": false,
    "ExecuteTime": {
     "end_time": "2023-10-31T21:15:57.838638Z",
     "start_time": "2023-10-31T21:15:57.837231Z"
    }
   },
   "id": "3da461bb6703e09d"
  }
 ],
 "metadata": {
  "kernelspec": {
   "display_name": "Python 3",
   "language": "python",
   "name": "python3"
  },
  "language_info": {
   "codemirror_mode": {
    "name": "ipython",
    "version": 2
   },
   "file_extension": ".py",
   "mimetype": "text/x-python",
   "name": "python",
   "nbconvert_exporter": "python",
   "pygments_lexer": "ipython2",
   "version": "2.7.6"
  }
 },
 "nbformat": 4,
 "nbformat_minor": 5
}
