{
 "cells": [
  {
   "cell_type": "code",
   "execution_count": 9,
   "outputs": [
    {
     "ename": "ValueError",
     "evalue": "operands could not be broadcast together with shapes (2,) (7,) ",
     "output_type": "error",
     "traceback": [
      "\u001B[0;31m---------------------------------------------------------------------------\u001B[0m",
      "\u001B[0;31mValueError\u001B[0m                                Traceback (most recent call last)",
      "Cell \u001B[0;32mIn[9], line 61\u001B[0m\n\u001B[1;32m     59\u001B[0m \u001B[38;5;66;03m# Compute components\u001B[39;00m\n\u001B[1;32m     60\u001B[0m unc \u001B[38;5;241m=\u001B[39m UNC(o_prob)\n\u001B[0;32m---> 61\u001B[0m rel \u001B[38;5;241m=\u001B[39m \u001B[43mREL\u001B[49m\u001B[43m(\u001B[49m\u001B[43mo_cond_k\u001B[49m\u001B[43m,\u001B[49m\u001B[43m \u001B[49m\u001B[43mf_cond_k\u001B[49m\u001B[43m,\u001B[49m\u001B[43m \u001B[49m\u001B[43mp_k\u001B[49m\u001B[43m)\u001B[49m\n\u001B[1;32m     62\u001B[0m res \u001B[38;5;241m=\u001B[39m RES(o_cond_k, o_prob, p_k)\n\u001B[1;32m     64\u001B[0m \u001B[38;5;66;03m# Compute DKL\u001B[39;00m\n",
      "Cell \u001B[0;32mIn[9], line 39\u001B[0m, in \u001B[0;36mREL\u001B[0;34m(o_cond_k, f_cond_k, p_k)\u001B[0m\n\u001B[1;32m     37\u001B[0m rel \u001B[38;5;241m=\u001B[39m \u001B[38;5;241m0.0\u001B[39m\n\u001B[1;32m     38\u001B[0m \u001B[38;5;28;01mfor\u001B[39;00m k \u001B[38;5;129;01min\u001B[39;00m \u001B[38;5;28mrange\u001B[39m(\u001B[38;5;28mlen\u001B[39m(p_k)):\n\u001B[0;32m---> 39\u001B[0m     rel \u001B[38;5;241m+\u001B[39m\u001B[38;5;241m=\u001B[39m p_k[k] \u001B[38;5;241m*\u001B[39m np\u001B[38;5;241m.\u001B[39msum(o_cond_k[k, :] \u001B[38;5;241m*\u001B[39m np\u001B[38;5;241m.\u001B[39mlog(\u001B[43mo_cond_k\u001B[49m\u001B[43m[\u001B[49m\u001B[43mk\u001B[49m\u001B[43m,\u001B[49m\u001B[43m \u001B[49m\u001B[43m:\u001B[49m\u001B[43m]\u001B[49m\u001B[43m \u001B[49m\u001B[38;5;241;43m/\u001B[39;49m\u001B[43m \u001B[49m\u001B[43m(\u001B[49m\u001B[43mf_cond_k\u001B[49m\u001B[43m[\u001B[49m\u001B[43mk\u001B[49m\u001B[43m,\u001B[49m\u001B[43m \u001B[49m\u001B[43m:\u001B[49m\u001B[43m]\u001B[49m\u001B[43m \u001B[49m\u001B[38;5;241;43m+\u001B[39;49m\u001B[43m \u001B[49m\u001B[38;5;241;43m1e-15\u001B[39;49m\u001B[43m)\u001B[49m \u001B[38;5;241m+\u001B[39m \u001B[38;5;241m1e-15\u001B[39m))\n\u001B[1;32m     40\u001B[0m \u001B[38;5;28;01mreturn\u001B[39;00m rel\n",
      "\u001B[0;31mValueError\u001B[0m: operands could not be broadcast together with shapes (2,) (7,) "
     ]
    }
   ],
   "source": [
    "import numpy as np\n",
    "from collections import Counter\n",
    "\n",
    "def calculate_conditionals(o, f):\n",
    "    unique_forecasts = np.unique(f)\n",
    "    o_cond_k = []\n",
    "    f_cond_k = []\n",
    "    p_k = []\n",
    "\n",
    "    for k in unique_forecasts:\n",
    "        indices = np.where(f == k)\n",
    "        sub_o = o[indices]\n",
    "        sub_f = f[indices]\n",
    "\n",
    "        o_counter = Counter(sub_o)\n",
    "        f_counter = Counter(sub_f)\n",
    "\n",
    "        total_o = sum(o_counter.values())\n",
    "        total_f = sum(f_counter.values())\n",
    "\n",
    "        o_prob = np.array([o_counter[i]/total_o if i in o_counter else 0 for i in range(len(np.unique(o)))])\n",
    "        f_prob = np.array([f_counter[i]/total_f if i in f_counter else 0 for i in range(len(np.unique(f)))])\n",
    "\n",
    "        o_cond_k.append(o_prob)\n",
    "        f_cond_k.append(f_prob)\n",
    "        p_k.append(len(sub_o) / len(o))\n",
    "\n",
    "    return np.array(o_cond_k), np.array(f_cond_k), np.array(p_k)\n",
    "\n",
    "def DKL(o, f):\n",
    "    return np.sum(o * np.log(o / (f + 1e-15) + 1e-15))\n",
    "\n",
    "def UNC(o):\n",
    "    return -np.sum(o * np.log(o + 1e-15))\n",
    "\n",
    "def REL(o_cond_k, f_cond_k, p_k):\n",
    "    rel = 0.0\n",
    "    for k in range(len(p_k)):\n",
    "        rel += p_k[k] * np.sum(o_cond_k[k, :] * np.log(o_cond_k[k, :] / (f_cond_k[k, :] + 1e-15) + 1e-15))\n",
    "    return rel\n",
    "\n",
    "def RES(o_cond_k, o, p_k):\n",
    "    res = 0.0\n",
    "    for k in range(len(p_k)):\n",
    "        res += p_k[k] * np.sum(o_cond_k[k, :] * np.log(o_cond_k[k, :] / (o + 1e-15) + 1e-15))\n",
    "    return res\n",
    "\n",
    "# Example time series\n",
    "o = np.array([0, 1, 0, 0, 0, 0, 1, 0])  # Observations\n",
    "f = np.array([0.1, 0.5, 0.1, 0.2, 0.3, 0.4, 0.7, 0.6])  # Forecasts\n",
    "\n",
    "# Calculate marginal probabilities\n",
    "o_prob = np.array([Counter(o)[i]/len(o) for i in np.unique(o)])\n",
    "f_prob = np.array([Counter(f)[i]/len(f) for i in np.unique(f)])\n",
    "\n",
    "# Calculate conditional probabilities\n",
    "o_cond_k, f_cond_k, p_k = calculate_conditionals(o, f)\n",
    "\n",
    "# Compute components\n",
    "unc = UNC(o_prob)\n",
    "rel = REL(o_cond_k, f_cond_k, p_k)\n",
    "res = RES(o_cond_k, o_prob, p_k)\n",
    "\n",
    "# Compute DKL\n",
    "dkl = unc - res + rel\n",
    "\n",
    "print(\"DKL:\", dkl, \"\\nUNC:\", unc, \"\\nREL:\", rel, \"\\nRES:\", res)\n"
   ],
   "metadata": {
    "collapsed": false,
    "ExecuteTime": {
     "end_time": "2023-10-31T18:19:02.948586Z",
     "start_time": "2023-10-31T18:19:02.920822Z"
    }
   },
   "id": "c7d7eb31af9c951d"
  },
  {
   "cell_type": "code",
   "execution_count": null,
   "outputs": [],
   "source": [],
   "metadata": {
    "collapsed": false
   },
   "id": "5a39a61381e6d575"
  }
 ],
 "metadata": {
  "kernelspec": {
   "display_name": "Python 3",
   "language": "python",
   "name": "python3"
  },
  "language_info": {
   "codemirror_mode": {
    "name": "ipython",
    "version": 2
   },
   "file_extension": ".py",
   "mimetype": "text/x-python",
   "name": "python",
   "nbconvert_exporter": "python",
   "pygments_lexer": "ipython2",
   "version": "2.7.6"
  }
 },
 "nbformat": 4,
 "nbformat_minor": 5
}
