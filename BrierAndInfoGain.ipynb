{
 "cells": [
  {
   "cell_type": "code",
   "execution_count": 37,
   "id": "initial_id",
   "metadata": {
    "collapsed": true,
    "ExecuteTime": {
     "end_time": "2023-10-24T19:17:36.825865Z",
     "start_time": "2023-10-24T19:17:36.798700Z"
    }
   },
   "outputs": [],
   "source": [
    "import warnings\n",
    "\n",
    "import numpy as np\n",
    "\n",
    "from scipy.stats import entropy\n",
    "from scipy.special import rel_entr, kl_div, entr"
   ]
  },
  {
   "cell_type": "markdown",
   "source": [
    "# Computing information gain and its components \n",
    "### John R. Lawson, October 2022\n",
    "\n",
    "This shows the code and mathematics of evaluating a time series of paired forecast/observation probabilities.\n",
    "The assumption is for two observation categories: 0 and 1. \n",
    "The code can be developed further for >2 classes, continuous ranked (like CRPS), and observational uncertainty (Cross-Entropy Score).\n",
    "\n",
    "If evaluating event-by-event (like Lawson et al 2021 for cell-by-cell), don't decompose it"
   ],
   "metadata": {
    "collapsed": false
   },
   "id": "934253cddf6ab9c0"
  },
  {
   "cell_type": "code",
   "execution_count": 38,
   "outputs": [],
   "source": [
    "np.seterr(divide='ignore')\n",
    "warnings.filterwarnings('ignore')\n",
    "\n",
    "class DKL:\n",
    "    def __init__(self,o,f):\n",
    "        self.o = o \n",
    "        self.f = f\n",
    "        \n",
    "        assert np.max(f) < 1.0\n",
    "        assert np.min(f) > 0.0\n",
    "        \n",
    "        # Number of unique forecast probs\n",
    "        self.k = np.unique(self.f)\n",
    "        \n",
    "        # Number of unique classes\n",
    "        self.c = np.unique(self.o)\n",
    "        \n",
    "        # Frequency of obs\n",
    "        self.o_bar = np.mean(self.o)\n",
    "        \n",
    "    @staticmethod\n",
    "    def __compute_dkl(o,f):\n",
    "        raw_term1 = (1-o)*np.log2((1-o)/(1-f))\n",
    "        raw_term2 = o*np.log2(o/f)\n",
    "              \n",
    "        term1 = np.nan_to_num(raw_term1)\n",
    "        term2 = np.nan_to_num(raw_term2)\n",
    "              \n",
    "        # print(f\"{term1=}\")\n",
    "        # print(f\"{term2=}\")\n",
    "               \n",
    "        \n",
    "        raw_dkl = term1 + term2 \n",
    "        # print(\"__compute_dkl\")\n",
    "        # print(dkl)\n",
    "        \n",
    "        # Find nans and convert to 0 \n",
    "        # Not infinity, as f in {0,1} dealt with already\n",
    "        # dkl = -term1 -term2\n",
    "        all_dkl = np.nan_to_num(raw_dkl)\n",
    "        return all_dkl, np.mean(all_dkl)        \n",
    "        \n",
    "    def compute_dkl(self,from_components=False):\n",
    "        if from_components:\n",
    "            U = self.compute_unc()\n",
    "            R = self.compute_rel()\n",
    "            D = self.compute_dsc()\n",
    "            return R - D + U\n",
    "        all_dkl, raw_dkl = self.__compute_dkl(self.o,self.f)\n",
    "        dkl = np.nan_to_num(raw_dkl)\n",
    "        print(f\"{all_dkl=}, {raw_dkl=}, {dkl=}\")\n",
    "        return dkl \n",
    "    \n",
    "    def compute_dsc(self):\n",
    "        # N total forecasts\n",
    "        # K number of unique forecasts \n",
    "        # ok_bar is frequency for obs in prob-class k\n",
    "        N = len(self.o)\n",
    "        K = len(self.k)\n",
    "        dsc_1d = np.zeros([K])\n",
    "        for ik,k in enumerate(self.k):\n",
    "            ok_bar = np.mean(self.o[self.f==k])\n",
    "            fk = self.f[self.f==k]\n",
    "            nk = len(fk)\n",
    "            dkl_all, dkl_term = self.__compute_dkl(ok_bar,self.o_bar)\n",
    "            dsc_1d[ik] = nk*dkl_term \n",
    "        print(f\"{dkl_all=}, {dkl_term=}, {dsc_1d=}\")      \n",
    "        dsc_1d = np.nan_to_num(dsc_1d)\n",
    "        return np.mean(dsc_1d)\n",
    "        \n",
    "    def compute_unc(self):\n",
    "        term1 = (1-self.o_bar) * np.log2(1-self.o_bar)\n",
    "        term2 = self.o_bar * np.log2(self.o_bar)\n",
    "        \n",
    "        # Find nans and convert to 0 \n",
    "        # Not infinity, as f in {0,1} dealt with already\n",
    "        unc = -term1 - term2\n",
    "        return unc\n",
    "    \n",
    "    def compute_rel(self):\n",
    "        # N total forecasts\n",
    "        # K number of unique forecasts \n",
    "        # ok_bar is frequency for obs in prob-class k\n",
    "        # fk is the pmf for prob-class k\n",
    "        N = len(self.o)\n",
    "        K = len(self.k)\n",
    "        rel_1d = np.zeros([K])\n",
    "        for ik,k in enumerate(self.k):\n",
    "            ok_bar = np.mean(self.o[self.f==k])\n",
    "            fk = self.f[self.f==k]\n",
    "            nk = len(fk)\n",
    "            _, dkl = self.__compute_dkl(ok_bar,fk)\n",
    "            # print(ok_bar,fk,nk,dkl)\n",
    "            rel_1d[ik] = (nk*dkl)\n",
    "        # rel_1d[rel_1d == np.nan] = 0\n",
    "        rel_1d = np.nan_to_num(rel_1d)\n",
    "        # print(rel_1d)\n",
    "        return np.mean(rel_1d)\n",
    "           \n",
    "        \n",
    "    "
   ],
   "metadata": {
    "collapsed": false,
    "ExecuteTime": {
     "end_time": "2023-10-24T19:17:36.826543Z",
     "start_time": "2023-10-24T19:17:36.802600Z"
    }
   },
   "id": "579e2f4070736de4"
  },
  {
   "cell_type": "code",
   "execution_count": 39,
   "outputs": [],
   "source": [
    "# Observations and forecast probabilities\n",
    "\n",
    "# o = np.array([1,0,0,0,1,0])\n",
    "# f = np.array([0.9,0.1,0.3,0.4,0.6,0.6])\n",
    "\n",
    "o = np.array([1,0,0])\n",
    "f = np.array([0.6,0.4,0.1])\n",
    "\n",
    "dkl = DKL(o,f)\n"
   ],
   "metadata": {
    "collapsed": false,
    "ExecuteTime": {
     "end_time": "2023-10-24T19:17:36.841495Z",
     "start_time": "2023-10-24T19:17:36.815661Z"
    }
   },
   "id": "4e8aea9f775eda24"
  },
  {
   "cell_type": "markdown",
   "source": [
    "### Uncertainty component\n",
    "This is only defined for >2 values. The frequency of one event occurring gives certainty (entropy = 0)\n",
    "Uncertainty is otherwise the prior entropy (1 bit for coin)\n",
    "-log2(prob)"
   ],
   "metadata": {
    "collapsed": false
   },
   "id": "6ff8ebd36ef8b178"
  },
  {
   "cell_type": "code",
   "execution_count": 40,
   "outputs": [
    {
     "name": "stdout",
     "output_type": "stream",
     "text": [
      "0.9182958340544896\n"
     ]
    }
   ],
   "source": [
    "print(dkl.compute_unc())"
   ],
   "metadata": {
    "collapsed": false,
    "ExecuteTime": {
     "end_time": "2023-10-24T19:17:36.841703Z",
     "start_time": "2023-10-24T19:17:36.818721Z"
    }
   },
   "id": "78dc3cc5aee48a32"
  },
  {
   "cell_type": "markdown",
   "source": [
    "### Reliability component\n",
    "The information lost via \"probabilistic false alarm\" or incorrect categorisation of forecast probability\n",
    "Zero reliability error (information loss) occurs when, e.g., an average 20% risk is issued for an event that occurs 1 in 5 times"
   ],
   "metadata": {
    "collapsed": false
   },
   "id": "3bd7861c7baccdff"
  },
  {
   "cell_type": "code",
   "execution_count": 41,
   "outputs": [
    {
     "name": "stdout",
     "output_type": "stream",
     "text": [
      "0.5419780939258209\n"
     ]
    }
   ],
   "source": [
    "print(dkl.compute_rel())"
   ],
   "metadata": {
    "collapsed": false,
    "ExecuteTime": {
     "end_time": "2023-10-24T19:17:36.851122Z",
     "start_time": "2023-10-24T19:17:36.822049Z"
    }
   },
   "id": "ded8422b0eb66bb4"
  },
  {
   "cell_type": "markdown",
   "source": [
    "### Discrimination component\n",
    "We might want to return an array of dsc values per probability threshold\n",
    "dsc_1d shows this currently - can output dkl.k attribute for 1-D array of forecast-probability bins\n",
    "(Need a visualisation bit later in notebook)"
   ],
   "metadata": {
    "collapsed": false
   },
   "id": "7d759d5f504c8c87"
  },
  {
   "cell_type": "code",
   "execution_count": 42,
   "outputs": [
    {
     "name": "stdout",
     "output_type": "stream",
     "text": [
      "dkl_all=1.584962500721156, dkl_term=1.584962500721156, dsc_1d=array([0.5849625, 0.5849625, 1.5849625])\n",
      "0.9182958340544894\n"
     ]
    }
   ],
   "source": [
    "print(dkl.compute_dsc())\n"
   ],
   "metadata": {
    "collapsed": false,
    "ExecuteTime": {
     "end_time": "2023-10-24T19:17:36.851781Z",
     "start_time": "2023-10-24T19:17:36.824897Z"
    }
   },
   "id": "efe423b18acec217"
  },
  {
   "cell_type": "code",
   "execution_count": 43,
   "outputs": [
    {
     "name": "stdout",
     "output_type": "stream",
     "text": [
      "all_dkl=array([0.73696559, 0.73696559, 0.15200309]), raw_dkl=0.5419780939258209, dkl=0.5419780939258209\n",
      "0.5419780939258209\n"
     ]
    }
   ],
   "source": [
    "print(dkl.compute_dkl(from_components=False))\n"
   ],
   "metadata": {
    "collapsed": false,
    "ExecuteTime": {
     "end_time": "2023-10-24T19:17:36.851840Z",
     "start_time": "2023-10-24T19:17:36.828862Z"
    }
   },
   "id": "71d540f28155a465"
  },
  {
   "cell_type": "code",
   "execution_count": 44,
   "outputs": [
    {
     "name": "stdout",
     "output_type": "stream",
     "text": [
      "dkl_all=1.584962500721156, dkl_term=1.584962500721156, dsc_1d=array([0.5849625, 0.5849625, 1.5849625])\n",
      "0.541978093925821\n"
     ]
    }
   ],
   "source": [
    "print(dkl.compute_dkl(from_components=True))"
   ],
   "metadata": {
    "collapsed": false,
    "ExecuteTime": {
     "end_time": "2023-10-24T19:17:36.851898Z",
     "start_time": "2023-10-24T19:17:36.831851Z"
    }
   },
   "id": "1feecd4d02e1f9c9"
  },
  {
   "cell_type": "markdown",
   "source": [
    "### Skill scores\n",
    "You can represent these components normalised by uncertainty\n",
    "Positive indicates a gain over this measure\n",
    "\n",
    "We would rather look at information gained over a baseline, but naiveity would be entropy to begin with\n",
    "Can compare two models (different rho, for instance) and set unc to be dkl, remaining uncertainty in forecast\n",
    "\n",
    "Information gained between forecasts issued by an old and new model f1 and f2, respectively, is:"
   ],
   "metadata": {
    "collapsed": false
   },
   "id": "cf178ae0804c6983"
  },
  {
   "cell_type": "code",
   "execution_count": 44,
   "outputs": [],
   "source": [
    "def compute_info_gain(o,f1,f2):\n",
    "    DKL1 = dkl(o,f1)\n",
    "    DKL2 = dkl(o,f2)\n",
    "    return DKL1 - DKL2"
   ],
   "metadata": {
    "collapsed": false,
    "ExecuteTime": {
     "end_time": "2023-10-24T19:17:36.852844Z",
     "start_time": "2023-10-24T19:17:36.836490Z"
    }
   },
   "id": "1cd189ad98554b7d"
  }
 ],
 "metadata": {
  "kernelspec": {
   "display_name": "Python 3",
   "language": "python",
   "name": "python3"
  },
  "language_info": {
   "codemirror_mode": {
    "name": "ipython",
    "version": 2
   },
   "file_extension": ".py",
   "mimetype": "text/x-python",
   "name": "python",
   "nbconvert_exporter": "python",
   "pygments_lexer": "ipython2",
   "version": "2.7.6"
  }
 },
 "nbformat": 4,
 "nbformat_minor": 5
}
